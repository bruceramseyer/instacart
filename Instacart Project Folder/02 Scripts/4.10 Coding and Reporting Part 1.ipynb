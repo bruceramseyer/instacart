{
 "cells": [
  {
   "cell_type": "markdown",
   "id": "f4a14281",
   "metadata": {},
   "source": [
    "# 4.10 Coding and Reporting"
   ]
  },
  {
   "cell_type": "code",
   "execution_count": 1,
   "id": "751a8262",
   "metadata": {},
   "outputs": [],
   "source": [
    "# Importing libraries\n",
    "\n",
    "import pandas as pd\n",
    "import numpy as np\n",
    "import os\n",
    "import matplotlib.pyplot as plt\n",
    "import seaborn as sns\n",
    "import scipy"
   ]
  },
  {
   "cell_type": "markdown",
   "id": "ec9df3ff",
   "metadata": {},
   "source": [
    "This script contains the following points:\n",
    "1. Importing combined order, product, and customer data\n",
    "2. Reviewing data for PII concerns\n",
    "3. Creating random sampling for final analysis\n",
    "4. Defining new user-fields for region and customer activity\n",
    "5. Defining customer profiles for analysis\n",
    "6. Visualizing and analysis for profile trends\n",
    "7. Additional project analysis"
   ]
  },
  {
   "cell_type": "code",
   "execution_count": 2,
   "id": "e7d4c56a",
   "metadata": {},
   "outputs": [],
   "source": [
    "path=r'C:\\Users\\dell\\Desktop\\Career Foundry\\0423_Instacart Analysis'"
   ]
  },
  {
   "cell_type": "code",
   "execution_count": 3,
   "id": "2dd0e37c",
   "metadata": {},
   "outputs": [],
   "source": [
    "# Import pickle instacart merged data set\n",
    "\n",
    "instacart_merge=pd.read_pickle(os.path.join(path,'02 Data','Prepared Data','instacart_merge.pkl'))"
   ]
  },
  {
   "cell_type": "code",
   "execution_count": 4,
   "id": "7d339e0f",
   "metadata": {},
   "outputs": [
    {
     "data": {
      "text/plain": [
       "(32404859, 31)"
      ]
     },
     "execution_count": 4,
     "metadata": {},
     "output_type": "execute_result"
    }
   ],
   "source": [
    "instacart_merge.shape"
   ]
  },
  {
   "cell_type": "code",
   "execution_count": 5,
   "id": "46d87a84",
   "metadata": {},
   "outputs": [
    {
     "data": {
      "text/html": [
       "<div>\n",
       "<style scoped>\n",
       "    .dataframe tbody tr th:only-of-type {\n",
       "        vertical-align: middle;\n",
       "    }\n",
       "\n",
       "    .dataframe tbody tr th {\n",
       "        vertical-align: top;\n",
       "    }\n",
       "\n",
       "    .dataframe thead th {\n",
       "        text-align: right;\n",
       "    }\n",
       "</style>\n",
       "<table border=\"1\" class=\"dataframe\">\n",
       "  <thead>\n",
       "    <tr style=\"text-align: right;\">\n",
       "      <th></th>\n",
       "      <th>order_id</th>\n",
       "      <th>user_id</th>\n",
       "      <th>order_number</th>\n",
       "      <th>orders_day_of_week</th>\n",
       "      <th>order_hour_of_day</th>\n",
       "      <th>#ofdays_since_last_order</th>\n",
       "      <th>product_id</th>\n",
       "      <th>add_to_cart_order</th>\n",
       "      <th>reordered</th>\n",
       "      <th>product_name</th>\n",
       "      <th>...</th>\n",
       "      <th>frequency_flag</th>\n",
       "      <th>last_name</th>\n",
       "      <th>gender</th>\n",
       "      <th>state</th>\n",
       "      <th>age</th>\n",
       "      <th>date_joined</th>\n",
       "      <th>num_dependants</th>\n",
       "      <th>fam_status</th>\n",
       "      <th>income</th>\n",
       "      <th>_merge</th>\n",
       "    </tr>\n",
       "  </thead>\n",
       "  <tbody>\n",
       "    <tr>\n",
       "      <th>0</th>\n",
       "      <td>2539329</td>\n",
       "      <td>1</td>\n",
       "      <td>1</td>\n",
       "      <td>2</td>\n",
       "      <td>8</td>\n",
       "      <td>0.0</td>\n",
       "      <td>196</td>\n",
       "      <td>1</td>\n",
       "      <td>0</td>\n",
       "      <td>Soda</td>\n",
       "      <td>...</td>\n",
       "      <td>Regular customer</td>\n",
       "      <td>Nguyen</td>\n",
       "      <td>Female</td>\n",
       "      <td>Alabama</td>\n",
       "      <td>31</td>\n",
       "      <td>2/17/2019</td>\n",
       "      <td>3</td>\n",
       "      <td>married</td>\n",
       "      <td>40423</td>\n",
       "      <td>both</td>\n",
       "    </tr>\n",
       "    <tr>\n",
       "      <th>1</th>\n",
       "      <td>2398795</td>\n",
       "      <td>1</td>\n",
       "      <td>2</td>\n",
       "      <td>3</td>\n",
       "      <td>7</td>\n",
       "      <td>15.0</td>\n",
       "      <td>196</td>\n",
       "      <td>1</td>\n",
       "      <td>1</td>\n",
       "      <td>Soda</td>\n",
       "      <td>...</td>\n",
       "      <td>Regular customer</td>\n",
       "      <td>Nguyen</td>\n",
       "      <td>Female</td>\n",
       "      <td>Alabama</td>\n",
       "      <td>31</td>\n",
       "      <td>2/17/2019</td>\n",
       "      <td>3</td>\n",
       "      <td>married</td>\n",
       "      <td>40423</td>\n",
       "      <td>both</td>\n",
       "    </tr>\n",
       "    <tr>\n",
       "      <th>2</th>\n",
       "      <td>473747</td>\n",
       "      <td>1</td>\n",
       "      <td>3</td>\n",
       "      <td>3</td>\n",
       "      <td>12</td>\n",
       "      <td>21.0</td>\n",
       "      <td>196</td>\n",
       "      <td>1</td>\n",
       "      <td>1</td>\n",
       "      <td>Soda</td>\n",
       "      <td>...</td>\n",
       "      <td>Regular customer</td>\n",
       "      <td>Nguyen</td>\n",
       "      <td>Female</td>\n",
       "      <td>Alabama</td>\n",
       "      <td>31</td>\n",
       "      <td>2/17/2019</td>\n",
       "      <td>3</td>\n",
       "      <td>married</td>\n",
       "      <td>40423</td>\n",
       "      <td>both</td>\n",
       "    </tr>\n",
       "    <tr>\n",
       "      <th>3</th>\n",
       "      <td>2254736</td>\n",
       "      <td>1</td>\n",
       "      <td>4</td>\n",
       "      <td>4</td>\n",
       "      <td>7</td>\n",
       "      <td>29.0</td>\n",
       "      <td>196</td>\n",
       "      <td>1</td>\n",
       "      <td>1</td>\n",
       "      <td>Soda</td>\n",
       "      <td>...</td>\n",
       "      <td>Regular customer</td>\n",
       "      <td>Nguyen</td>\n",
       "      <td>Female</td>\n",
       "      <td>Alabama</td>\n",
       "      <td>31</td>\n",
       "      <td>2/17/2019</td>\n",
       "      <td>3</td>\n",
       "      <td>married</td>\n",
       "      <td>40423</td>\n",
       "      <td>both</td>\n",
       "    </tr>\n",
       "    <tr>\n",
       "      <th>4</th>\n",
       "      <td>431534</td>\n",
       "      <td>1</td>\n",
       "      <td>5</td>\n",
       "      <td>4</td>\n",
       "      <td>15</td>\n",
       "      <td>28.0</td>\n",
       "      <td>196</td>\n",
       "      <td>1</td>\n",
       "      <td>1</td>\n",
       "      <td>Soda</td>\n",
       "      <td>...</td>\n",
       "      <td>Regular customer</td>\n",
       "      <td>Nguyen</td>\n",
       "      <td>Female</td>\n",
       "      <td>Alabama</td>\n",
       "      <td>31</td>\n",
       "      <td>2/17/2019</td>\n",
       "      <td>3</td>\n",
       "      <td>married</td>\n",
       "      <td>40423</td>\n",
       "      <td>both</td>\n",
       "    </tr>\n",
       "  </tbody>\n",
       "</table>\n",
       "<p>5 rows × 31 columns</p>\n",
       "</div>"
      ],
      "text/plain": [
       "   order_id  user_id  order_number  orders_day_of_week  order_hour_of_day  \\\n",
       "0   2539329        1             1                   2                  8   \n",
       "1   2398795        1             2                   3                  7   \n",
       "2    473747        1             3                   3                 12   \n",
       "3   2254736        1             4                   4                  7   \n",
       "4    431534        1             5                   4                 15   \n",
       "\n",
       "   #ofdays_since_last_order  product_id  add_to_cart_order  reordered  \\\n",
       "0                       0.0         196                  1          0   \n",
       "1                      15.0         196                  1          1   \n",
       "2                      21.0         196                  1          1   \n",
       "3                      29.0         196                  1          1   \n",
       "4                      28.0         196                  1          1   \n",
       "\n",
       "  product_name  ...    frequency_flag  last_name  gender    state age  \\\n",
       "0         Soda  ...  Regular customer     Nguyen  Female  Alabama  31   \n",
       "1         Soda  ...  Regular customer     Nguyen  Female  Alabama  31   \n",
       "2         Soda  ...  Regular customer     Nguyen  Female  Alabama  31   \n",
       "3         Soda  ...  Regular customer     Nguyen  Female  Alabama  31   \n",
       "4         Soda  ...  Regular customer     Nguyen  Female  Alabama  31   \n",
       "\n",
       "  date_joined  num_dependants fam_status  income _merge  \n",
       "0   2/17/2019               3    married   40423   both  \n",
       "1   2/17/2019               3    married   40423   both  \n",
       "2   2/17/2019               3    married   40423   both  \n",
       "3   2/17/2019               3    married   40423   both  \n",
       "4   2/17/2019               3    married   40423   both  \n",
       "\n",
       "[5 rows x 31 columns]"
      ]
     },
     "execution_count": 5,
     "metadata": {},
     "output_type": "execute_result"
    }
   ],
   "source": [
    "instacart_merge.head()"
   ]
  },
  {
   "cell_type": "code",
   "execution_count": 6,
   "id": "edf81140",
   "metadata": {},
   "outputs": [
    {
     "name": "stdout",
     "output_type": "stream",
     "text": [
      "<class 'pandas.core.frame.DataFrame'>\n",
      "Int64Index: 32404859 entries, 0 to 32404858\n",
      "Data columns (total 31 columns):\n",
      " #   Column                    Dtype   \n",
      "---  ------                    -----   \n",
      " 0   order_id                  int64   \n",
      " 1   user_id                   int64   \n",
      " 2   order_number              int64   \n",
      " 3   orders_day_of_week        int64   \n",
      " 4   order_hour_of_day         int64   \n",
      " 5   #ofdays_since_last_order  float64 \n",
      " 6   product_id                int64   \n",
      " 7   add_to_cart_order         int64   \n",
      " 8   reordered                 int64   \n",
      " 9   product_name              object  \n",
      " 10  aisle_id                  int64   \n",
      " 11  department_id             int64   \n",
      " 12  prices                    float64 \n",
      " 13  price_range_loc           object  \n",
      " 14  busiest_days              object  \n",
      " 15  busiest_period_of_day     object  \n",
      " 16  max_order                 int64   \n",
      " 17  loyalty_flag              object  \n",
      " 18  mean_spend                float64 \n",
      " 19  spending_flag             object  \n",
      " 20  median_freq               float64 \n",
      " 21  frequency_flag            object  \n",
      " 22  last_name                 object  \n",
      " 23  gender                    object  \n",
      " 24  state                     object  \n",
      " 25  age                       int64   \n",
      " 26  date_joined               object  \n",
      " 27  num_dependants            int64   \n",
      " 28  fam_status                object  \n",
      " 29  income                    int64   \n",
      " 30  _merge                    category\n",
      "dtypes: category(1), float64(4), int64(14), object(12)\n",
      "memory usage: 7.5+ GB\n"
     ]
    }
   ],
   "source": [
    "instacart_merge.info()"
   ]
  },
  {
   "cell_type": "code",
   "execution_count": 7,
   "id": "beadc3fa",
   "metadata": {},
   "outputs": [],
   "source": [
    "# Dropping last_name to avoid personally identifiable information concerns and merge field\n",
    "\n",
    "df_instacart_clean1 = instacart_merge.drop(['last_name'], axis=1)"
   ]
  },
  {
   "cell_type": "code",
   "execution_count": 8,
   "id": "e8299449",
   "metadata": {},
   "outputs": [],
   "source": [
    "df_instacart_clean2 = df_instacart_clean1.drop(['_merge'], axis=1)"
   ]
  },
  {
   "cell_type": "code",
   "execution_count": 9,
   "id": "eb87e273",
   "metadata": {},
   "outputs": [
    {
     "data": {
      "text/html": [
       "<div>\n",
       "<style scoped>\n",
       "    .dataframe tbody tr th:only-of-type {\n",
       "        vertical-align: middle;\n",
       "    }\n",
       "\n",
       "    .dataframe tbody tr th {\n",
       "        vertical-align: top;\n",
       "    }\n",
       "\n",
       "    .dataframe thead th {\n",
       "        text-align: right;\n",
       "    }\n",
       "</style>\n",
       "<table border=\"1\" class=\"dataframe\">\n",
       "  <thead>\n",
       "    <tr style=\"text-align: right;\">\n",
       "      <th></th>\n",
       "      <th>order_id</th>\n",
       "      <th>user_id</th>\n",
       "      <th>order_number</th>\n",
       "      <th>orders_day_of_week</th>\n",
       "      <th>order_hour_of_day</th>\n",
       "      <th>#ofdays_since_last_order</th>\n",
       "      <th>product_id</th>\n",
       "      <th>add_to_cart_order</th>\n",
       "      <th>reordered</th>\n",
       "      <th>product_name</th>\n",
       "      <th>...</th>\n",
       "      <th>spending_flag</th>\n",
       "      <th>median_freq</th>\n",
       "      <th>frequency_flag</th>\n",
       "      <th>gender</th>\n",
       "      <th>state</th>\n",
       "      <th>age</th>\n",
       "      <th>date_joined</th>\n",
       "      <th>num_dependants</th>\n",
       "      <th>fam_status</th>\n",
       "      <th>income</th>\n",
       "    </tr>\n",
       "  </thead>\n",
       "  <tbody>\n",
       "    <tr>\n",
       "      <th>0</th>\n",
       "      <td>2539329</td>\n",
       "      <td>1</td>\n",
       "      <td>1</td>\n",
       "      <td>2</td>\n",
       "      <td>8</td>\n",
       "      <td>0.0</td>\n",
       "      <td>196</td>\n",
       "      <td>1</td>\n",
       "      <td>0</td>\n",
       "      <td>Soda</td>\n",
       "      <td>...</td>\n",
       "      <td>Low spender</td>\n",
       "      <td>20.0</td>\n",
       "      <td>Regular customer</td>\n",
       "      <td>Female</td>\n",
       "      <td>Alabama</td>\n",
       "      <td>31</td>\n",
       "      <td>2/17/2019</td>\n",
       "      <td>3</td>\n",
       "      <td>married</td>\n",
       "      <td>40423</td>\n",
       "    </tr>\n",
       "    <tr>\n",
       "      <th>1</th>\n",
       "      <td>2398795</td>\n",
       "      <td>1</td>\n",
       "      <td>2</td>\n",
       "      <td>3</td>\n",
       "      <td>7</td>\n",
       "      <td>15.0</td>\n",
       "      <td>196</td>\n",
       "      <td>1</td>\n",
       "      <td>1</td>\n",
       "      <td>Soda</td>\n",
       "      <td>...</td>\n",
       "      <td>Low spender</td>\n",
       "      <td>20.0</td>\n",
       "      <td>Regular customer</td>\n",
       "      <td>Female</td>\n",
       "      <td>Alabama</td>\n",
       "      <td>31</td>\n",
       "      <td>2/17/2019</td>\n",
       "      <td>3</td>\n",
       "      <td>married</td>\n",
       "      <td>40423</td>\n",
       "    </tr>\n",
       "    <tr>\n",
       "      <th>2</th>\n",
       "      <td>473747</td>\n",
       "      <td>1</td>\n",
       "      <td>3</td>\n",
       "      <td>3</td>\n",
       "      <td>12</td>\n",
       "      <td>21.0</td>\n",
       "      <td>196</td>\n",
       "      <td>1</td>\n",
       "      <td>1</td>\n",
       "      <td>Soda</td>\n",
       "      <td>...</td>\n",
       "      <td>Low spender</td>\n",
       "      <td>20.0</td>\n",
       "      <td>Regular customer</td>\n",
       "      <td>Female</td>\n",
       "      <td>Alabama</td>\n",
       "      <td>31</td>\n",
       "      <td>2/17/2019</td>\n",
       "      <td>3</td>\n",
       "      <td>married</td>\n",
       "      <td>40423</td>\n",
       "    </tr>\n",
       "    <tr>\n",
       "      <th>3</th>\n",
       "      <td>2254736</td>\n",
       "      <td>1</td>\n",
       "      <td>4</td>\n",
       "      <td>4</td>\n",
       "      <td>7</td>\n",
       "      <td>29.0</td>\n",
       "      <td>196</td>\n",
       "      <td>1</td>\n",
       "      <td>1</td>\n",
       "      <td>Soda</td>\n",
       "      <td>...</td>\n",
       "      <td>Low spender</td>\n",
       "      <td>20.0</td>\n",
       "      <td>Regular customer</td>\n",
       "      <td>Female</td>\n",
       "      <td>Alabama</td>\n",
       "      <td>31</td>\n",
       "      <td>2/17/2019</td>\n",
       "      <td>3</td>\n",
       "      <td>married</td>\n",
       "      <td>40423</td>\n",
       "    </tr>\n",
       "    <tr>\n",
       "      <th>4</th>\n",
       "      <td>431534</td>\n",
       "      <td>1</td>\n",
       "      <td>5</td>\n",
       "      <td>4</td>\n",
       "      <td>15</td>\n",
       "      <td>28.0</td>\n",
       "      <td>196</td>\n",
       "      <td>1</td>\n",
       "      <td>1</td>\n",
       "      <td>Soda</td>\n",
       "      <td>...</td>\n",
       "      <td>Low spender</td>\n",
       "      <td>20.0</td>\n",
       "      <td>Regular customer</td>\n",
       "      <td>Female</td>\n",
       "      <td>Alabama</td>\n",
       "      <td>31</td>\n",
       "      <td>2/17/2019</td>\n",
       "      <td>3</td>\n",
       "      <td>married</td>\n",
       "      <td>40423</td>\n",
       "    </tr>\n",
       "  </tbody>\n",
       "</table>\n",
       "<p>5 rows × 29 columns</p>\n",
       "</div>"
      ],
      "text/plain": [
       "   order_id  user_id  order_number  orders_day_of_week  order_hour_of_day  \\\n",
       "0   2539329        1             1                   2                  8   \n",
       "1   2398795        1             2                   3                  7   \n",
       "2    473747        1             3                   3                 12   \n",
       "3   2254736        1             4                   4                  7   \n",
       "4    431534        1             5                   4                 15   \n",
       "\n",
       "   #ofdays_since_last_order  product_id  add_to_cart_order  reordered  \\\n",
       "0                       0.0         196                  1          0   \n",
       "1                      15.0         196                  1          1   \n",
       "2                      21.0         196                  1          1   \n",
       "3                      29.0         196                  1          1   \n",
       "4                      28.0         196                  1          1   \n",
       "\n",
       "  product_name  ...  spending_flag  median_freq    frequency_flag  gender  \\\n",
       "0         Soda  ...    Low spender         20.0  Regular customer  Female   \n",
       "1         Soda  ...    Low spender         20.0  Regular customer  Female   \n",
       "2         Soda  ...    Low spender         20.0  Regular customer  Female   \n",
       "3         Soda  ...    Low spender         20.0  Regular customer  Female   \n",
       "4         Soda  ...    Low spender         20.0  Regular customer  Female   \n",
       "\n",
       "     state age  date_joined num_dependants  fam_status income  \n",
       "0  Alabama  31    2/17/2019              3     married  40423  \n",
       "1  Alabama  31    2/17/2019              3     married  40423  \n",
       "2  Alabama  31    2/17/2019              3     married  40423  \n",
       "3  Alabama  31    2/17/2019              3     married  40423  \n",
       "4  Alabama  31    2/17/2019              3     married  40423  \n",
       "\n",
       "[5 rows x 29 columns]"
      ]
     },
     "execution_count": 9,
     "metadata": {},
     "output_type": "execute_result"
    }
   ],
   "source": [
    "df_instacart_clean2.head()"
   ]
  },
  {
   "cell_type": "code",
   "execution_count": 10,
   "id": "dd8f7bae",
   "metadata": {},
   "outputs": [],
   "source": [
    "# Create 70/30 random sample\n",
    "\n",
    "dev = np.random.rand(len(df_instacart_clean2)) <=0.7"
   ]
  },
  {
   "cell_type": "code",
   "execution_count": 11,
   "id": "7e0fe12a",
   "metadata": {},
   "outputs": [],
   "source": [
    "# Create data frames for sampling size\n",
    "\n",
    "df_instacart_lg = df_instacart_clean2[dev]\n",
    "df_instacart_sm = df_instacart_clean2[~dev]"
   ]
  },
  {
   "cell_type": "code",
   "execution_count": 12,
   "id": "51800b26",
   "metadata": {},
   "outputs": [
    {
     "data": {
      "text/plain": [
       "32404859"
      ]
     },
     "execution_count": 12,
     "metadata": {},
     "output_type": "execute_result"
    }
   ],
   "source": [
    "# Check against total size\n",
    "\n",
    "len(df_instacart_lg) + len(df_instacart_sm)"
   ]
  },
  {
   "cell_type": "markdown",
   "id": "50e21f95",
   "metadata": {},
   "source": [
    "Check matches original shape of 32,404,859"
   ]
  },
  {
   "cell_type": "code",
   "execution_count": 13,
   "id": "3e109426",
   "metadata": {},
   "outputs": [
    {
     "data": {
      "text/plain": [
       "9721013"
      ]
     },
     "execution_count": 13,
     "metadata": {},
     "output_type": "execute_result"
    }
   ],
   "source": [
    "# Check new dataframe sample size\n",
    "\n",
    "len(df_instacart_sm)"
   ]
  },
  {
   "cell_type": "markdown",
   "id": "62dd6e15",
   "metadata": {},
   "source": [
    "# Regions"
   ]
  },
  {
   "cell_type": "code",
   "execution_count": 14,
   "id": "799705ec",
   "metadata": {},
   "outputs": [],
   "source": [
    "# Creating Region loop based off state location\n",
    "\n",
    "result = []\n",
    "\n",
    "for value in df_instacart_sm[\"state\"]:\n",
    "  if (value == 'Maine' or value == 'New Hampshire' or value == 'Vermont' or value == 'Massachusetts'\n",
    "      or value == 'Rhode Island' or value == 'Connecticut' or value == 'New York' or value == 'Pennsylvania' \n",
    "      or value == 'New Jersey'):\n",
    "    result.append(\"Northeast\")\n",
    "  elif (value == 'Wisconsin' or value == 'Michigan' or value == 'Illinois' or value == 'Indiana' or value == 'Ohio' \n",
    "        or value == 'North Dakota' or value == 'South Dakota' or value == 'Nebraska' or value == 'Kansas'\n",
    "        or value == 'Minnesota' or value == 'Iowa' or value == 'Missouri'):\n",
    "    result.append(\"Midwest\")\n",
    "  elif (value == 'Delaware' or value == 'Maryland' or value == 'District of Columbia' or value == 'Virginia' \n",
    "        or value == 'West Virginia' or value == 'North Carolina' or value == 'South Carolina' or value == 'Georgia' \n",
    "        or value == 'Florida' or value == 'Kentucky' or value == 'Tennessee' or value == 'Mississippi' or value == 'Alabama' \n",
    "        or value == 'Oklahoma' or value == 'Texas' or value == 'Arkansas' or value == 'Louisiana'):\n",
    "    result.append(\"South\")  \n",
    "  else:\n",
    "    result.append(\"West\")"
   ]
  },
  {
   "cell_type": "code",
   "execution_count": 15,
   "id": "7699362d",
   "metadata": {},
   "outputs": [
    {
     "name": "stderr",
     "output_type": "stream",
     "text": [
      "C:\\Users\\dell\\AppData\\Local\\Temp\\ipykernel_6944\\2521751388.py:3: SettingWithCopyWarning: \n",
      "A value is trying to be set on a copy of a slice from a DataFrame.\n",
      "Try using .loc[row_indexer,col_indexer] = value instead\n",
      "\n",
      "See the caveats in the documentation: https://pandas.pydata.org/pandas-docs/stable/user_guide/indexing.html#returning-a-view-versus-a-copy\n",
      "  df_instacart_sm['Region'] = result\n"
     ]
    }
   ],
   "source": [
    "# Creating Region column\n",
    "\n",
    "df_instacart_sm['Region'] = result"
   ]
  },
  {
   "cell_type": "code",
   "execution_count": 16,
   "id": "1c7c72b5",
   "metadata": {},
   "outputs": [
    {
     "data": {
      "text/plain": [
       "South        3237643\n",
       "West         2487618\n",
       "Midwest      2279643\n",
       "Northeast    1716109\n",
       "Name: Region, dtype: int64"
      ]
     },
     "execution_count": 16,
     "metadata": {},
     "output_type": "execute_result"
    }
   ],
   "source": [
    "df_instacart_sm['Region'].value_counts(dropna = False)"
   ]
  },
  {
   "cell_type": "markdown",
   "id": "d0af0c5f",
   "metadata": {},
   "source": [
    "Totals match sample sample size total of 9,723,925"
   ]
  },
  {
   "cell_type": "code",
   "execution_count": 17,
   "id": "7ba95a91",
   "metadata": {},
   "outputs": [
    {
     "data": {
      "text/html": [
       "<div>\n",
       "<style scoped>\n",
       "    .dataframe tbody tr th:only-of-type {\n",
       "        vertical-align: middle;\n",
       "    }\n",
       "\n",
       "    .dataframe tbody tr th {\n",
       "        vertical-align: top;\n",
       "    }\n",
       "\n",
       "    .dataframe thead th {\n",
       "        text-align: right;\n",
       "    }\n",
       "</style>\n",
       "<table border=\"1\" class=\"dataframe\">\n",
       "  <thead>\n",
       "    <tr style=\"text-align: right;\">\n",
       "      <th></th>\n",
       "      <th>order_id</th>\n",
       "      <th>user_id</th>\n",
       "      <th>order_number</th>\n",
       "      <th>orders_day_of_week</th>\n",
       "      <th>order_hour_of_day</th>\n",
       "      <th>#ofdays_since_last_order</th>\n",
       "      <th>product_id</th>\n",
       "      <th>add_to_cart_order</th>\n",
       "      <th>reordered</th>\n",
       "      <th>product_name</th>\n",
       "      <th>...</th>\n",
       "      <th>median_freq</th>\n",
       "      <th>frequency_flag</th>\n",
       "      <th>gender</th>\n",
       "      <th>state</th>\n",
       "      <th>age</th>\n",
       "      <th>date_joined</th>\n",
       "      <th>num_dependants</th>\n",
       "      <th>fam_status</th>\n",
       "      <th>income</th>\n",
       "      <th>Region</th>\n",
       "    </tr>\n",
       "  </thead>\n",
       "  <tbody>\n",
       "    <tr>\n",
       "      <th>0</th>\n",
       "      <td>2539329</td>\n",
       "      <td>1</td>\n",
       "      <td>1</td>\n",
       "      <td>2</td>\n",
       "      <td>8</td>\n",
       "      <td>0.0</td>\n",
       "      <td>196</td>\n",
       "      <td>1</td>\n",
       "      <td>0</td>\n",
       "      <td>Soda</td>\n",
       "      <td>...</td>\n",
       "      <td>20.0</td>\n",
       "      <td>Regular customer</td>\n",
       "      <td>Female</td>\n",
       "      <td>Alabama</td>\n",
       "      <td>31</td>\n",
       "      <td>2/17/2019</td>\n",
       "      <td>3</td>\n",
       "      <td>married</td>\n",
       "      <td>40423</td>\n",
       "      <td>South</td>\n",
       "    </tr>\n",
       "    <tr>\n",
       "      <th>4</th>\n",
       "      <td>431534</td>\n",
       "      <td>1</td>\n",
       "      <td>5</td>\n",
       "      <td>4</td>\n",
       "      <td>15</td>\n",
       "      <td>28.0</td>\n",
       "      <td>196</td>\n",
       "      <td>1</td>\n",
       "      <td>1</td>\n",
       "      <td>Soda</td>\n",
       "      <td>...</td>\n",
       "      <td>20.0</td>\n",
       "      <td>Regular customer</td>\n",
       "      <td>Female</td>\n",
       "      <td>Alabama</td>\n",
       "      <td>31</td>\n",
       "      <td>2/17/2019</td>\n",
       "      <td>3</td>\n",
       "      <td>married</td>\n",
       "      <td>40423</td>\n",
       "      <td>South</td>\n",
       "    </tr>\n",
       "    <tr>\n",
       "      <th>8</th>\n",
       "      <td>2295261</td>\n",
       "      <td>1</td>\n",
       "      <td>9</td>\n",
       "      <td>1</td>\n",
       "      <td>16</td>\n",
       "      <td>0.0</td>\n",
       "      <td>196</td>\n",
       "      <td>4</td>\n",
       "      <td>1</td>\n",
       "      <td>Soda</td>\n",
       "      <td>...</td>\n",
       "      <td>20.0</td>\n",
       "      <td>Regular customer</td>\n",
       "      <td>Female</td>\n",
       "      <td>Alabama</td>\n",
       "      <td>31</td>\n",
       "      <td>2/17/2019</td>\n",
       "      <td>3</td>\n",
       "      <td>married</td>\n",
       "      <td>40423</td>\n",
       "      <td>South</td>\n",
       "    </tr>\n",
       "    <tr>\n",
       "      <th>12</th>\n",
       "      <td>2398795</td>\n",
       "      <td>1</td>\n",
       "      <td>2</td>\n",
       "      <td>3</td>\n",
       "      <td>7</td>\n",
       "      <td>15.0</td>\n",
       "      <td>12427</td>\n",
       "      <td>3</td>\n",
       "      <td>1</td>\n",
       "      <td>Original Beef Jerky</td>\n",
       "      <td>...</td>\n",
       "      <td>20.0</td>\n",
       "      <td>Regular customer</td>\n",
       "      <td>Female</td>\n",
       "      <td>Alabama</td>\n",
       "      <td>31</td>\n",
       "      <td>2/17/2019</td>\n",
       "      <td>3</td>\n",
       "      <td>married</td>\n",
       "      <td>40423</td>\n",
       "      <td>South</td>\n",
       "    </tr>\n",
       "    <tr>\n",
       "      <th>13</th>\n",
       "      <td>473747</td>\n",
       "      <td>1</td>\n",
       "      <td>3</td>\n",
       "      <td>3</td>\n",
       "      <td>12</td>\n",
       "      <td>21.0</td>\n",
       "      <td>12427</td>\n",
       "      <td>2</td>\n",
       "      <td>1</td>\n",
       "      <td>Original Beef Jerky</td>\n",
       "      <td>...</td>\n",
       "      <td>20.0</td>\n",
       "      <td>Regular customer</td>\n",
       "      <td>Female</td>\n",
       "      <td>Alabama</td>\n",
       "      <td>31</td>\n",
       "      <td>2/17/2019</td>\n",
       "      <td>3</td>\n",
       "      <td>married</td>\n",
       "      <td>40423</td>\n",
       "      <td>South</td>\n",
       "    </tr>\n",
       "  </tbody>\n",
       "</table>\n",
       "<p>5 rows × 30 columns</p>\n",
       "</div>"
      ],
      "text/plain": [
       "    order_id  user_id  order_number  orders_day_of_week  order_hour_of_day  \\\n",
       "0    2539329        1             1                   2                  8   \n",
       "4     431534        1             5                   4                 15   \n",
       "8    2295261        1             9                   1                 16   \n",
       "12   2398795        1             2                   3                  7   \n",
       "13    473747        1             3                   3                 12   \n",
       "\n",
       "    #ofdays_since_last_order  product_id  add_to_cart_order  reordered  \\\n",
       "0                        0.0         196                  1          0   \n",
       "4                       28.0         196                  1          1   \n",
       "8                        0.0         196                  4          1   \n",
       "12                      15.0       12427                  3          1   \n",
       "13                      21.0       12427                  2          1   \n",
       "\n",
       "           product_name  ...  median_freq    frequency_flag  gender    state  \\\n",
       "0                  Soda  ...         20.0  Regular customer  Female  Alabama   \n",
       "4                  Soda  ...         20.0  Regular customer  Female  Alabama   \n",
       "8                  Soda  ...         20.0  Regular customer  Female  Alabama   \n",
       "12  Original Beef Jerky  ...         20.0  Regular customer  Female  Alabama   \n",
       "13  Original Beef Jerky  ...         20.0  Regular customer  Female  Alabama   \n",
       "\n",
       "   age date_joined  num_dependants fam_status  income Region  \n",
       "0   31   2/17/2019               3    married   40423  South  \n",
       "4   31   2/17/2019               3    married   40423  South  \n",
       "8   31   2/17/2019               3    married   40423  South  \n",
       "12  31   2/17/2019               3    married   40423  South  \n",
       "13  31   2/17/2019               3    married   40423  South  \n",
       "\n",
       "[5 rows x 30 columns]"
      ]
     },
     "execution_count": 17,
     "metadata": {},
     "output_type": "execute_result"
    }
   ],
   "source": [
    "df_instacart_sm.head()"
   ]
  },
  {
   "cell_type": "code",
   "execution_count": 18,
   "id": "3d9fcd0c",
   "metadata": {},
   "outputs": [],
   "source": [
    "# Create crosstab of Region and Spending_Flag to review spending habits between regions\n",
    "\n",
    "region_habits = pd.crosstab(df_instacart_sm['Region'],df_instacart_sm['spending_flag'],dropna = False)"
   ]
  },
  {
   "cell_type": "code",
   "execution_count": 19,
   "id": "92c1223f",
   "metadata": {},
   "outputs": [],
   "source": [
    "region_habits.to_clipboard()"
   ]
  },
  {
   "cell_type": "code",
   "execution_count": 20,
   "id": "7c1b1d18",
   "metadata": {},
   "outputs": [
    {
     "data": {
      "text/html": [
       "<div>\n",
       "<style scoped>\n",
       "    .dataframe tbody tr th:only-of-type {\n",
       "        vertical-align: middle;\n",
       "    }\n",
       "\n",
       "    .dataframe tbody tr th {\n",
       "        vertical-align: top;\n",
       "    }\n",
       "\n",
       "    .dataframe thead th {\n",
       "        text-align: right;\n",
       "    }\n",
       "</style>\n",
       "<table border=\"1\" class=\"dataframe\">\n",
       "  <thead>\n",
       "    <tr style=\"text-align: right;\">\n",
       "      <th>spending_flag</th>\n",
       "      <th>High spender</th>\n",
       "      <th>Low spender</th>\n",
       "    </tr>\n",
       "    <tr>\n",
       "      <th>Region</th>\n",
       "      <th></th>\n",
       "      <th></th>\n",
       "    </tr>\n",
       "  </thead>\n",
       "  <tbody>\n",
       "    <tr>\n",
       "      <th>Midwest</th>\n",
       "      <td>46735</td>\n",
       "      <td>2232908</td>\n",
       "    </tr>\n",
       "    <tr>\n",
       "      <th>Northeast</th>\n",
       "      <td>32326</td>\n",
       "      <td>1683783</td>\n",
       "    </tr>\n",
       "    <tr>\n",
       "      <th>South</th>\n",
       "      <td>62527</td>\n",
       "      <td>3175116</td>\n",
       "    </tr>\n",
       "    <tr>\n",
       "      <th>West</th>\n",
       "      <td>48304</td>\n",
       "      <td>2439314</td>\n",
       "    </tr>\n",
       "  </tbody>\n",
       "</table>\n",
       "</div>"
      ],
      "text/plain": [
       "spending_flag  High spender  Low spender\n",
       "Region                                  \n",
       "Midwest               46735      2232908\n",
       "Northeast             32326      1683783\n",
       "South                 62527      3175116\n",
       "West                  48304      2439314"
      ]
     },
     "execution_count": 20,
     "metadata": {},
     "output_type": "execute_result"
    }
   ],
   "source": [
    "region_habits"
   ]
  },
  {
   "cell_type": "markdown",
   "id": "ef09e390",
   "metadata": {},
   "source": [
    "Spending habits are fairly consistent among Regions. High Spenders average 2% of total population."
   ]
  },
  {
   "cell_type": "code",
   "execution_count": 21,
   "id": "5581401a",
   "metadata": {},
   "outputs": [
    {
     "name": "stderr",
     "output_type": "stream",
     "text": [
      "C:\\Users\\dell\\AppData\\Local\\Temp\\ipykernel_6944\\941057902.py:3: SettingWithCopyWarning: \n",
      "A value is trying to be set on a copy of a slice from a DataFrame.\n",
      "Try using .loc[row_indexer,col_indexer] = value instead\n",
      "\n",
      "See the caveats in the documentation: https://pandas.pydata.org/pandas-docs/stable/user_guide/indexing.html#returning-a-view-versus-a-copy\n",
      "  df_instacart_sm.loc[df_instacart_sm['max_order'] < 5, 'activity_flag'] = 'Low customer activity'\n"
     ]
    }
   ],
   "source": [
    "# Create exclusion flag for low activity customers with less than 5 orders\n",
    "\n",
    "df_instacart_sm.loc[df_instacart_sm['max_order'] < 5, 'activity_flag'] = 'Low customer activity'"
   ]
  },
  {
   "cell_type": "code",
   "execution_count": 22,
   "id": "2942a485",
   "metadata": {},
   "outputs": [],
   "source": [
    "df_instacart_sm.loc[df_instacart_sm['max_order'] >= 5, 'activity_flag'] = 'High customer activity'"
   ]
  },
  {
   "cell_type": "code",
   "execution_count": 23,
   "id": "f3896a03",
   "metadata": {},
   "outputs": [
    {
     "data": {
      "text/plain": [
       "High customer activity    9288748\n",
       "Low customer activity      432265\n",
       "Name: activity_flag, dtype: int64"
      ]
     },
     "execution_count": 23,
     "metadata": {},
     "output_type": "execute_result"
    }
   ],
   "source": [
    "df_instacart_sm['activity_flag'].value_counts(dropna = False)"
   ]
  },
  {
   "cell_type": "code",
   "execution_count": 24,
   "id": "98bc5b0a",
   "metadata": {},
   "outputs": [],
   "source": [
    "# Create subset of High customer activity\n",
    "\n",
    "df_instacart_hcust = df_instacart_sm[df_instacart_sm['activity_flag'] == 'High customer activity']"
   ]
  },
  {
   "cell_type": "code",
   "execution_count": 25,
   "id": "eb655d44",
   "metadata": {},
   "outputs": [],
   "source": [
    "# Export high customer activitydata to pkl\n",
    "\n",
    "df_instacart_hcust.to_pickle(os.path.join(path, '02 Data','Prepared Data', 'df_instacart_hcust.pkl'))"
   ]
  },
  {
   "cell_type": "markdown",
   "id": "6d618739",
   "metadata": {},
   "source": [
    "# Customer Profiles"
   ]
  },
  {
   "cell_type": "markdown",
   "id": "d9896e27",
   "metadata": {},
   "source": [
    "AGE"
   ]
  },
  {
   "cell_type": "code",
   "execution_count": 26,
   "id": "14fc3f5d",
   "metadata": {},
   "outputs": [
    {
     "data": {
      "text/html": [
       "<div>\n",
       "<style scoped>\n",
       "    .dataframe tbody tr th:only-of-type {\n",
       "        vertical-align: middle;\n",
       "    }\n",
       "\n",
       "    .dataframe tbody tr th {\n",
       "        vertical-align: top;\n",
       "    }\n",
       "\n",
       "    .dataframe thead th {\n",
       "        text-align: right;\n",
       "    }\n",
       "</style>\n",
       "<table border=\"1\" class=\"dataframe\">\n",
       "  <thead>\n",
       "    <tr style=\"text-align: right;\">\n",
       "      <th></th>\n",
       "      <th>age</th>\n",
       "    </tr>\n",
       "  </thead>\n",
       "  <tbody>\n",
       "    <tr>\n",
       "      <th>min</th>\n",
       "      <td>18.000000</td>\n",
       "    </tr>\n",
       "    <tr>\n",
       "      <th>max</th>\n",
       "      <td>81.000000</td>\n",
       "    </tr>\n",
       "    <tr>\n",
       "      <th>mean</th>\n",
       "      <td>49.464721</td>\n",
       "    </tr>\n",
       "  </tbody>\n",
       "</table>\n",
       "</div>"
      ],
      "text/plain": [
       "            age\n",
       "min   18.000000\n",
       "max   81.000000\n",
       "mean  49.464721"
      ]
     },
     "execution_count": 26,
     "metadata": {},
     "output_type": "execute_result"
    }
   ],
   "source": [
    "df_instacart_hcust.agg({'age' : ['min','max','mean']})"
   ]
  },
  {
   "cell_type": "code",
   "execution_count": 27,
   "id": "3c6e656b",
   "metadata": {},
   "outputs": [
    {
     "name": "stderr",
     "output_type": "stream",
     "text": [
      "C:\\Users\\dell\\AppData\\Local\\Temp\\ipykernel_6944\\569771896.py:3: SettingWithCopyWarning: \n",
      "A value is trying to be set on a copy of a slice from a DataFrame.\n",
      "Try using .loc[row_indexer,col_indexer] = value instead\n",
      "\n",
      "See the caveats in the documentation: https://pandas.pydata.org/pandas-docs/stable/user_guide/indexing.html#returning-a-view-versus-a-copy\n",
      "  df_instacart_hcust.loc[(df_instacart_hcust['age'] <= 39), 'age_profile'] = '18-39'\n"
     ]
    },
    {
     "data": {
      "text/plain": [
       "18-39    3200600\n",
       "60+      3171252\n",
       "40-59    2916896\n",
       "Name: age_profile, dtype: int64"
      ]
     },
     "execution_count": 27,
     "metadata": {},
     "output_type": "execute_result"
    }
   ],
   "source": [
    "# Age segmentation based of todayfounder.com: https://todayfounder.com/market-segmentation-by-age-the-complete-guide/\n",
    "\n",
    "df_instacart_hcust.loc[(df_instacart_hcust['age'] <= 39), 'age_profile'] = '18-39'\n",
    "df_instacart_hcust.loc[(df_instacart_hcust['age'] > 39) & (df_instacart_hcust['age'] <= 59), 'age_profile'] = '40-59'\n",
    "df_instacart_hcust.loc[(df_instacart_hcust['age'] > 59), 'age_profile'] = '60+'\n",
    "df_instacart_hcust['age_profile'].value_counts(dropna = False)"
   ]
  },
  {
   "cell_type": "code",
   "execution_count": 28,
   "id": "5f5c42e2",
   "metadata": {},
   "outputs": [
    {
     "data": {
      "image/png": "[encoded data removed]",
      "text/plain": [
       "<Figure size 640x480 with 1 Axes>"
      ]
     },
     "metadata": {},
     "output_type": "display_data"
    }
   ],
   "source": [
    "# Create age profile pie chart\n",
    "\n",
    "ageprofileperc_pie = df_instacart_hcust['age_profile'].value_counts('user_id').plot.pie(title ='Customer Age Profile Percentage', label = '', autopct=('%1.f%%'))"
   ]
  },
  {
   "cell_type": "markdown",
   "id": "c32b052f",
   "metadata": {},
   "source": [
    "Difference in high activity customer totals by age segmentation is minimal with only a 3% difference in the 40-59 Age Profile"
   ]
  },
  {
   "cell_type": "code",
   "execution_count": 29,
   "id": "a365d838",
   "metadata": {},
   "outputs": [
    {
     "data": {
      "text/html": [
       "<div>\n",
       "<style scoped>\n",
       "    .dataframe tbody tr th:only-of-type {\n",
       "        vertical-align: middle;\n",
       "    }\n",
       "\n",
       "    .dataframe tbody tr th {\n",
       "        vertical-align: top;\n",
       "    }\n",
       "\n",
       "    .dataframe thead tr th {\n",
       "        text-align: left;\n",
       "    }\n",
       "\n",
       "    .dataframe thead tr:last-of-type th {\n",
       "        text-align: right;\n",
       "    }\n",
       "</style>\n",
       "<table border=\"1\" class=\"dataframe\">\n",
       "  <thead>\n",
       "    <tr>\n",
       "      <th></th>\n",
       "      <th>orders_day_of_week</th>\n",
       "      <th>order_hour_of_day</th>\n",
       "      <th colspan=\"3\" halign=\"left\">#ofdays_since_last_order</th>\n",
       "      <th colspan=\"2\" halign=\"left\">prices</th>\n",
       "    </tr>\n",
       "    <tr>\n",
       "      <th></th>\n",
       "      <th>mean</th>\n",
       "      <th>mean</th>\n",
       "      <th>mean</th>\n",
       "      <th>min</th>\n",
       "      <th>max</th>\n",
       "      <th>mean</th>\n",
       "      <th>sum</th>\n",
       "    </tr>\n",
       "    <tr>\n",
       "      <th>age_profile</th>\n",
       "      <th></th>\n",
       "      <th></th>\n",
       "      <th></th>\n",
       "      <th></th>\n",
       "      <th></th>\n",
       "      <th></th>\n",
       "      <th></th>\n",
       "    </tr>\n",
       "  </thead>\n",
       "  <tbody>\n",
       "    <tr>\n",
       "      <th>18-39</th>\n",
       "      <td>2.733085</td>\n",
       "      <td>13.399873</td>\n",
       "      <td>10.241449</td>\n",
       "      <td>0.0</td>\n",
       "      <td>30.0</td>\n",
       "      <td>11.750369</td>\n",
       "      <td>37608230.7</td>\n",
       "    </tr>\n",
       "    <tr>\n",
       "      <th>40-59</th>\n",
       "      <td>2.743679</td>\n",
       "      <td>13.416626</td>\n",
       "      <td>10.239383</td>\n",
       "      <td>0.0</td>\n",
       "      <td>30.0</td>\n",
       "      <td>12.074772</td>\n",
       "      <td>35220852.9</td>\n",
       "    </tr>\n",
       "    <tr>\n",
       "      <th>60+</th>\n",
       "      <td>2.745791</td>\n",
       "      <td>13.414891</td>\n",
       "      <td>10.214598</td>\n",
       "      <td>0.0</td>\n",
       "      <td>30.0</td>\n",
       "      <td>11.569686</td>\n",
       "      <td>36690391.2</td>\n",
       "    </tr>\n",
       "  </tbody>\n",
       "</table>\n",
       "</div>"
      ],
      "text/plain": [
       "            orders_day_of_week order_hour_of_day #ofdays_since_last_order  \\\n",
       "                          mean              mean                     mean   \n",
       "age_profile                                                                 \n",
       "18-39                 2.733085         13.399873                10.241449   \n",
       "40-59                 2.743679         13.416626                10.239383   \n",
       "60+                   2.745791         13.414891                10.214598   \n",
       "\n",
       "                           prices              \n",
       "             min   max       mean         sum  \n",
       "age_profile                                    \n",
       "18-39        0.0  30.0  11.750369  37608230.7  \n",
       "40-59        0.0  30.0  12.074772  35220852.9  \n",
       "60+          0.0  30.0  11.569686  36690391.2  "
      ]
     },
     "execution_count": 29,
     "metadata": {},
     "output_type": "execute_result"
    }
   ],
   "source": [
    "df_instacart_hcust.groupby(['age_profile']).agg({'orders_day_of_week' : ['mean'],'order_hour_of_day' : ['mean'], '#ofdays_since_last_order' : ['mean','min','max'], 'prices' : ['mean','sum']})"
   ]
  },
  {
   "cell_type": "markdown",
   "id": "1232b2da",
   "metadata": {},
   "source": [
    "Average of orders by day_of_week, hour_of_day, and days_since_last_order indicate there is minimal difference of customer purchasing habits by age. The 18-39 Age Profile spends a little more on average than the groups"
   ]
  },
  {
   "cell_type": "markdown",
   "id": "6e140768",
   "metadata": {},
   "source": [
    "INCOME"
   ]
  },
  {
   "cell_type": "code",
   "execution_count": 30,
   "id": "8ebe2723",
   "metadata": {},
   "outputs": [
    {
     "data": {
      "text/html": [
       "<div>\n",
       "<style scoped>\n",
       "    .dataframe tbody tr th:only-of-type {\n",
       "        vertical-align: middle;\n",
       "    }\n",
       "\n",
       "    .dataframe tbody tr th {\n",
       "        vertical-align: top;\n",
       "    }\n",
       "\n",
       "    .dataframe thead th {\n",
       "        text-align: right;\n",
       "    }\n",
       "</style>\n",
       "<table border=\"1\" class=\"dataframe\">\n",
       "  <thead>\n",
       "    <tr style=\"text-align: right;\">\n",
       "      <th></th>\n",
       "      <th>income</th>\n",
       "    </tr>\n",
       "  </thead>\n",
       "  <tbody>\n",
       "    <tr>\n",
       "      <th>min</th>\n",
       "      <td>25903.000000</td>\n",
       "    </tr>\n",
       "    <tr>\n",
       "      <th>max</th>\n",
       "      <td>593901.000000</td>\n",
       "    </tr>\n",
       "    <tr>\n",
       "      <th>mean</th>\n",
       "      <td>99658.796183</td>\n",
       "    </tr>\n",
       "  </tbody>\n",
       "</table>\n",
       "</div>"
      ],
      "text/plain": [
       "             income\n",
       "min    25903.000000\n",
       "max   593901.000000\n",
       "mean   99658.796183"
      ]
     },
     "execution_count": 30,
     "metadata": {},
     "output_type": "execute_result"
    }
   ],
   "source": [
    "df_instacart_hcust.agg({'income' : ['min','max','mean']})"
   ]
  },
  {
   "cell_type": "code",
   "execution_count": 31,
   "id": "098f6b59",
   "metadata": {},
   "outputs": [
    {
     "name": "stderr",
     "output_type": "stream",
     "text": [
      "C:\\Users\\dell\\AppData\\Local\\Temp\\ipykernel_6944\\191085385.py:3: SettingWithCopyWarning: \n",
      "A value is trying to be set on a copy of a slice from a DataFrame.\n",
      "Try using .loc[row_indexer,col_indexer] = value instead\n",
      "\n",
      "See the caveats in the documentation: https://pandas.pydata.org/pandas-docs/stable/user_guide/indexing.html#returning-a-view-versus-a-copy\n",
      "  df_instacart_hcust.loc[(df_instacart_hcust['income'] <= 30000), 'income_profile'] = 'Lower income'\n"
     ]
    },
    {
     "data": {
      "text/plain": [
       "Upper income     5346970\n",
       "Middle income    3883563\n",
       "Lower income       58215\n",
       "Name: income_profile, dtype: int64"
      ]
     },
     "execution_count": 31,
     "metadata": {},
     "output_type": "execute_result"
    }
   ],
   "source": [
    "# Income segmentation based off pewresearch.org: https://www.pewresearch.org/short-reads/2022/04/20/how-the-american-middle-class-has-changed-in-the-past-five-decades/\n",
    "\n",
    "df_instacart_hcust.loc[(df_instacart_hcust['income'] <= 30000), 'income_profile'] = 'Lower income'\n",
    "df_instacart_hcust.loc[(df_instacart_hcust['income'] > 30000) & (df_instacart_hcust['income'] <= 90000), 'income_profile'] = 'Middle income'\n",
    "df_instacart_hcust.loc[(df_instacart_hcust['income'] > 90000), 'income_profile'] = 'Upper income'\n",
    "df_instacart_hcust['income_profile'].value_counts(dropna = False)"
   ]
  },
  {
   "cell_type": "markdown",
   "id": "11ab5820",
   "metadata": {},
   "source": [
    "Largest customer base totals are in the Middle to Upper income segmentation."
   ]
  },
  {
   "cell_type": "code",
   "execution_count": 32,
   "id": "d8ab8a60",
   "metadata": {},
   "outputs": [
    {
     "data": {
      "image/png": "[encoded data removed]",
      "text/plain": [
       "<Figure size 640x480 with 1 Axes>"
      ]
     },
     "metadata": {},
     "output_type": "display_data"
    }
   ],
   "source": [
    "# Create income profile pie chart\n",
    "\n",
    "incomeprofileperc_pie = df_instacart_hcust['income_profile'].value_counts('user_id').plot.pie(title ='Customer Income Profile Percentage', label = '', autopct=('%1.f%%'))"
   ]
  },
  {
   "cell_type": "code",
   "execution_count": 33,
   "id": "2e3af984",
   "metadata": {},
   "outputs": [
    {
     "data": {
      "text/html": [
       "<div>\n",
       "<style scoped>\n",
       "    .dataframe tbody tr th:only-of-type {\n",
       "        vertical-align: middle;\n",
       "    }\n",
       "\n",
       "    .dataframe tbody tr th {\n",
       "        vertical-align: top;\n",
       "    }\n",
       "\n",
       "    .dataframe thead tr th {\n",
       "        text-align: left;\n",
       "    }\n",
       "\n",
       "    .dataframe thead tr:last-of-type th {\n",
       "        text-align: right;\n",
       "    }\n",
       "</style>\n",
       "<table border=\"1\" class=\"dataframe\">\n",
       "  <thead>\n",
       "    <tr>\n",
       "      <th></th>\n",
       "      <th>orders_day_of_week</th>\n",
       "      <th>order_hour_of_day</th>\n",
       "      <th colspan=\"3\" halign=\"left\">#ofdays_since_last_order</th>\n",
       "      <th colspan=\"2\" halign=\"left\">prices</th>\n",
       "    </tr>\n",
       "    <tr>\n",
       "      <th></th>\n",
       "      <th>mean</th>\n",
       "      <th>mean</th>\n",
       "      <th>mean</th>\n",
       "      <th>min</th>\n",
       "      <th>max</th>\n",
       "      <th>mean</th>\n",
       "      <th>sum</th>\n",
       "    </tr>\n",
       "    <tr>\n",
       "      <th>income_profile</th>\n",
       "      <th></th>\n",
       "      <th></th>\n",
       "      <th></th>\n",
       "      <th></th>\n",
       "      <th></th>\n",
       "      <th></th>\n",
       "      <th></th>\n",
       "    </tr>\n",
       "  </thead>\n",
       "  <tbody>\n",
       "    <tr>\n",
       "      <th>Lower income</th>\n",
       "      <td>2.684171</td>\n",
       "      <td>13.115898</td>\n",
       "      <td>10.883673</td>\n",
       "      <td>0.0</td>\n",
       "      <td>30.0</td>\n",
       "      <td>6.507804</td>\n",
       "      <td>378851.8</td>\n",
       "    </tr>\n",
       "    <tr>\n",
       "      <th>Middle income</th>\n",
       "      <td>2.738467</td>\n",
       "      <td>13.373453</td>\n",
       "      <td>10.271124</td>\n",
       "      <td>0.0</td>\n",
       "      <td>30.0</td>\n",
       "      <td>7.692380</td>\n",
       "      <td>29873842.7</td>\n",
       "    </tr>\n",
       "    <tr>\n",
       "      <th>Upper income</th>\n",
       "      <td>2.743024</td>\n",
       "      <td>13.440200</td>\n",
       "      <td>10.195851</td>\n",
       "      <td>0.0</td>\n",
       "      <td>30.0</td>\n",
       "      <td>14.824617</td>\n",
       "      <td>79266780.3</td>\n",
       "    </tr>\n",
       "  </tbody>\n",
       "</table>\n",
       "</div>"
      ],
      "text/plain": [
       "               orders_day_of_week order_hour_of_day #ofdays_since_last_order  \\\n",
       "                             mean              mean                     mean   \n",
       "income_profile                                                                 \n",
       "Lower income             2.684171         13.115898                10.883673   \n",
       "Middle income            2.738467         13.373453                10.271124   \n",
       "Upper income             2.743024         13.440200                10.195851   \n",
       "\n",
       "                              prices              \n",
       "                min   max       mean         sum  \n",
       "income_profile                                    \n",
       "Lower income    0.0  30.0   6.507804    378851.8  \n",
       "Middle income   0.0  30.0   7.692380  29873842.7  \n",
       "Upper income    0.0  30.0  14.824617  79266780.3  "
      ]
     },
     "execution_count": 33,
     "metadata": {},
     "output_type": "execute_result"
    }
   ],
   "source": [
    "df_instacart_hcust.groupby(['income_profile']).agg({'orders_day_of_week' : ['mean'],'order_hour_of_day' : ['mean'], '#ofdays_since_last_order' : ['mean','min','max'], 'prices' : ['mean','sum']})"
   ]
  },
  {
   "cell_type": "code",
   "execution_count": 34,
   "id": "bd4eb553",
   "metadata": {},
   "outputs": [
    {
     "data": {
      "image/png": "[encoded data removed]",
      "text/plain": [
       "<Figure size 640x480 with 1 Axes>"
      ]
     },
     "metadata": {},
     "output_type": "display_data"
    }
   ],
   "source": [
    "# Income profile bar chart\n",
    "\n",
    "incomeprofilesales_bar = df_instacart_hcust.groupby(['income_profile']).agg({'prices':['sum']}).plot.bar(title ='Income Profile Sale Totals',legend=None)"
   ]
  },
  {
   "cell_type": "markdown",
   "id": "6fe29680",
   "metadata": {},
   "source": [
    "Average of orders by day_of_week, hour_of_day, and days_since_last_order indicate there is minimal difference of customer purchasing habits by income. Upper income spends roughly twice as much as on average and the lower and middle income brackets. Upper income total spend is nearly 3 times as much as the middle income"
   ]
  },
  {
   "cell_type": "code",
   "execution_count": 35,
   "id": "0aa3e64c",
   "metadata": {},
   "outputs": [
    {
     "data": {
      "text/html": [
       "<div>\n",
       "<style scoped>\n",
       "    .dataframe tbody tr th:only-of-type {\n",
       "        vertical-align: middle;\n",
       "    }\n",
       "\n",
       "    .dataframe tbody tr th {\n",
       "        vertical-align: top;\n",
       "    }\n",
       "\n",
       "    .dataframe thead th {\n",
       "        text-align: right;\n",
       "    }\n",
       "</style>\n",
       "<table border=\"1\" class=\"dataframe\">\n",
       "  <thead>\n",
       "    <tr style=\"text-align: right;\">\n",
       "      <th>income_profile</th>\n",
       "      <th>Lower income</th>\n",
       "      <th>Middle income</th>\n",
       "      <th>Upper income</th>\n",
       "    </tr>\n",
       "    <tr>\n",
       "      <th>age_profile</th>\n",
       "      <th></th>\n",
       "      <th></th>\n",
       "      <th></th>\n",
       "    </tr>\n",
       "  </thead>\n",
       "  <tbody>\n",
       "    <tr>\n",
       "      <th>18-39</th>\n",
       "      <td>50444</td>\n",
       "      <td>2589873</td>\n",
       "      <td>560283</td>\n",
       "    </tr>\n",
       "    <tr>\n",
       "      <th>40-59</th>\n",
       "      <td>4514</td>\n",
       "      <td>668837</td>\n",
       "      <td>2243545</td>\n",
       "    </tr>\n",
       "    <tr>\n",
       "      <th>60+</th>\n",
       "      <td>3257</td>\n",
       "      <td>624853</td>\n",
       "      <td>2543142</td>\n",
       "    </tr>\n",
       "  </tbody>\n",
       "</table>\n",
       "</div>"
      ],
      "text/plain": [
       "income_profile  Lower income  Middle income  Upper income\n",
       "age_profile                                              \n",
       "18-39                  50444        2589873        560283\n",
       "40-59                   4514         668837       2243545\n",
       "60+                     3257         624853       2543142"
      ]
     },
     "execution_count": 35,
     "metadata": {},
     "output_type": "execute_result"
    }
   ],
   "source": [
    "pd.crosstab(df_instacart_hcust['age_profile'],df_instacart_hcust['income_profile'],dropna = False)"
   ]
  },
  {
   "cell_type": "markdown",
   "id": "2b17e3b7",
   "metadata": {},
   "source": [
    "Significantly less customers that are 40 or older fall into the lower income bracket. "
   ]
  },
  {
   "cell_type": "markdown",
   "id": "8eccd281",
   "metadata": {},
   "source": [
    "DEPARTMENT GOODS"
   ]
  },
  {
   "cell_type": "code",
   "execution_count": 36,
   "id": "0abc90a5",
   "metadata": {},
   "outputs": [],
   "source": [
    "# Import department data\n",
    "\n",
    "df_dept=pd.read_csv(os.path.join(path,'02 Data','Prepared Data','departments_wrangled.csv'))"
   ]
  },
  {
   "cell_type": "code",
   "execution_count": 37,
   "id": "6ae6b972",
   "metadata": {},
   "outputs": [
    {
     "data": {
      "text/html": [
       "<div>\n",
       "<style scoped>\n",
       "    .dataframe tbody tr th:only-of-type {\n",
       "        vertical-align: middle;\n",
       "    }\n",
       "\n",
       "    .dataframe tbody tr th {\n",
       "        vertical-align: top;\n",
       "    }\n",
       "\n",
       "    .dataframe thead th {\n",
       "        text-align: right;\n",
       "    }\n",
       "</style>\n",
       "<table border=\"1\" class=\"dataframe\">\n",
       "  <thead>\n",
       "    <tr style=\"text-align: right;\">\n",
       "      <th></th>\n",
       "      <th>Unnamed: 0</th>\n",
       "      <th>department</th>\n",
       "    </tr>\n",
       "  </thead>\n",
       "  <tbody>\n",
       "    <tr>\n",
       "      <th>0</th>\n",
       "      <td>1</td>\n",
       "      <td>frozen</td>\n",
       "    </tr>\n",
       "    <tr>\n",
       "      <th>1</th>\n",
       "      <td>2</td>\n",
       "      <td>other</td>\n",
       "    </tr>\n",
       "    <tr>\n",
       "      <th>2</th>\n",
       "      <td>3</td>\n",
       "      <td>bakery</td>\n",
       "    </tr>\n",
       "    <tr>\n",
       "      <th>3</th>\n",
       "      <td>4</td>\n",
       "      <td>produce</td>\n",
       "    </tr>\n",
       "    <tr>\n",
       "      <th>4</th>\n",
       "      <td>5</td>\n",
       "      <td>alcohol</td>\n",
       "    </tr>\n",
       "  </tbody>\n",
       "</table>\n",
       "</div>"
      ],
      "text/plain": [
       "   Unnamed: 0 department\n",
       "0           1     frozen\n",
       "1           2      other\n",
       "2           3     bakery\n",
       "3           4    produce\n",
       "4           5    alcohol"
      ]
     },
     "execution_count": 37,
     "metadata": {},
     "output_type": "execute_result"
    }
   ],
   "source": [
    "df_dept.head()"
   ]
  },
  {
   "cell_type": "code",
   "execution_count": 38,
   "id": "0d118e75",
   "metadata": {},
   "outputs": [],
   "source": [
    "df_dept.rename(columns = {'Unnamed: 0' : 'department_id'}, inplace = True)"
   ]
  },
  {
   "cell_type": "code",
   "execution_count": 39,
   "id": "dbb6e62e",
   "metadata": {},
   "outputs": [
    {
     "data": {
      "text/html": [
       "<div>\n",
       "<style scoped>\n",
       "    .dataframe tbody tr th:only-of-type {\n",
       "        vertical-align: middle;\n",
       "    }\n",
       "\n",
       "    .dataframe tbody tr th {\n",
       "        vertical-align: top;\n",
       "    }\n",
       "\n",
       "    .dataframe thead th {\n",
       "        text-align: right;\n",
       "    }\n",
       "</style>\n",
       "<table border=\"1\" class=\"dataframe\">\n",
       "  <thead>\n",
       "    <tr style=\"text-align: right;\">\n",
       "      <th></th>\n",
       "      <th>department_id</th>\n",
       "      <th>department</th>\n",
       "    </tr>\n",
       "  </thead>\n",
       "  <tbody>\n",
       "    <tr>\n",
       "      <th>0</th>\n",
       "      <td>1</td>\n",
       "      <td>frozen</td>\n",
       "    </tr>\n",
       "    <tr>\n",
       "      <th>1</th>\n",
       "      <td>2</td>\n",
       "      <td>other</td>\n",
       "    </tr>\n",
       "    <tr>\n",
       "      <th>2</th>\n",
       "      <td>3</td>\n",
       "      <td>bakery</td>\n",
       "    </tr>\n",
       "    <tr>\n",
       "      <th>3</th>\n",
       "      <td>4</td>\n",
       "      <td>produce</td>\n",
       "    </tr>\n",
       "    <tr>\n",
       "      <th>4</th>\n",
       "      <td>5</td>\n",
       "      <td>alcohol</td>\n",
       "    </tr>\n",
       "  </tbody>\n",
       "</table>\n",
       "</div>"
      ],
      "text/plain": [
       "   department_id department\n",
       "0              1     frozen\n",
       "1              2      other\n",
       "2              3     bakery\n",
       "3              4    produce\n",
       "4              5    alcohol"
      ]
     },
     "execution_count": 39,
     "metadata": {},
     "output_type": "execute_result"
    }
   ],
   "source": [
    "df_dept.head()"
   ]
  },
  {
   "cell_type": "code",
   "execution_count": 40,
   "id": "656f4846",
   "metadata": {},
   "outputs": [],
   "source": [
    "# Merge departments with current high activity customers\n",
    "\n",
    "df_insta_dept_hcust = df_instacart_hcust.merge(df_dept, on = 'department_id')"
   ]
  },
  {
   "cell_type": "code",
   "execution_count": 41,
   "id": "91ab32f2",
   "metadata": {},
   "outputs": [],
   "source": [
    "crosstab_dept_age= pd.crosstab(df_insta_dept_hcust['department'],df_insta_dept_hcust['age_profile'],dropna = False)"
   ]
  },
  {
   "cell_type": "code",
   "execution_count": 42,
   "id": "53e71188",
   "metadata": {},
   "outputs": [],
   "source": [
    "crosstab_dept_age['all'] = crosstab_dept_age['18-39']+crosstab_dept_age['40-59']+crosstab_dept_age['60+']"
   ]
  },
  {
   "cell_type": "code",
   "execution_count": 43,
   "id": "5ea2110d",
   "metadata": {},
   "outputs": [
    {
     "data": {
      "text/html": [
       "<div>\n",
       "<style scoped>\n",
       "    .dataframe tbody tr th:only-of-type {\n",
       "        vertical-align: middle;\n",
       "    }\n",
       "\n",
       "    .dataframe tbody tr th {\n",
       "        vertical-align: top;\n",
       "    }\n",
       "\n",
       "    .dataframe thead th {\n",
       "        text-align: right;\n",
       "    }\n",
       "</style>\n",
       "<table border=\"1\" class=\"dataframe\">\n",
       "  <thead>\n",
       "    <tr style=\"text-align: right;\">\n",
       "      <th>age_profile</th>\n",
       "      <th>18-39</th>\n",
       "      <th>40-59</th>\n",
       "      <th>60+</th>\n",
       "    </tr>\n",
       "    <tr>\n",
       "      <th>department</th>\n",
       "      <th></th>\n",
       "      <th></th>\n",
       "      <th></th>\n",
       "    </tr>\n",
       "  </thead>\n",
       "  <tbody>\n",
       "    <tr>\n",
       "      <th>bulk</th>\n",
       "      <td>3499</td>\n",
       "      <td>3181</td>\n",
       "      <td>3444</td>\n",
       "    </tr>\n",
       "    <tr>\n",
       "      <th>other</th>\n",
       "      <td>3642</td>\n",
       "      <td>3224</td>\n",
       "      <td>3460</td>\n",
       "    </tr>\n",
       "    <tr>\n",
       "      <th>missing</th>\n",
       "      <td>6792</td>\n",
       "      <td>6100</td>\n",
       "      <td>6471</td>\n",
       "    </tr>\n",
       "    <tr>\n",
       "      <th>pets</th>\n",
       "      <td>9631</td>\n",
       "      <td>8759</td>\n",
       "      <td>9562</td>\n",
       "    </tr>\n",
       "    <tr>\n",
       "      <th>alcohol</th>\n",
       "      <td>15420</td>\n",
       "      <td>13394</td>\n",
       "      <td>14205</td>\n",
       "    </tr>\n",
       "    <tr>\n",
       "      <th>international</th>\n",
       "      <td>26590</td>\n",
       "      <td>24190</td>\n",
       "      <td>25950</td>\n",
       "    </tr>\n",
       "    <tr>\n",
       "      <th>babies</th>\n",
       "      <td>42574</td>\n",
       "      <td>39214</td>\n",
       "      <td>41676</td>\n",
       "    </tr>\n",
       "    <tr>\n",
       "      <th>personal care</th>\n",
       "      <td>43628</td>\n",
       "      <td>40475</td>\n",
       "      <td>43262</td>\n",
       "    </tr>\n",
       "    <tr>\n",
       "      <th>breakfast</th>\n",
       "      <td>69172</td>\n",
       "      <td>63235</td>\n",
       "      <td>68366</td>\n",
       "    </tr>\n",
       "    <tr>\n",
       "      <th>meat seafood</th>\n",
       "      <td>68939</td>\n",
       "      <td>63599</td>\n",
       "      <td>69689</td>\n",
       "    </tr>\n",
       "    <tr>\n",
       "      <th>household</th>\n",
       "      <td>71715</td>\n",
       "      <td>66299</td>\n",
       "      <td>72104</td>\n",
       "    </tr>\n",
       "    <tr>\n",
       "      <th>dry goods pasta</th>\n",
       "      <td>85492</td>\n",
       "      <td>77397</td>\n",
       "      <td>83732</td>\n",
       "    </tr>\n",
       "    <tr>\n",
       "      <th>deli</th>\n",
       "      <td>103423</td>\n",
       "      <td>94407</td>\n",
       "      <td>102875</td>\n",
       "    </tr>\n",
       "    <tr>\n",
       "      <th>canned goods</th>\n",
       "      <td>104881</td>\n",
       "      <td>95280</td>\n",
       "      <td>102997</td>\n",
       "    </tr>\n",
       "    <tr>\n",
       "      <th>bakery</th>\n",
       "      <td>115605</td>\n",
       "      <td>106314</td>\n",
       "      <td>114731</td>\n",
       "    </tr>\n",
       "    <tr>\n",
       "      <th>pantry</th>\n",
       "      <td>183753</td>\n",
       "      <td>168441</td>\n",
       "      <td>182871</td>\n",
       "    </tr>\n",
       "    <tr>\n",
       "      <th>frozen</th>\n",
       "      <td>219067</td>\n",
       "      <td>199964</td>\n",
       "      <td>219332</td>\n",
       "    </tr>\n",
       "    <tr>\n",
       "      <th>beverages</th>\n",
       "      <td>262227</td>\n",
       "      <td>244152</td>\n",
       "      <td>265185</td>\n",
       "    </tr>\n",
       "    <tr>\n",
       "      <th>snacks</th>\n",
       "      <td>288244</td>\n",
       "      <td>260295</td>\n",
       "      <td>282069</td>\n",
       "    </tr>\n",
       "    <tr>\n",
       "      <th>dairy eggs</th>\n",
       "      <td>537780</td>\n",
       "      <td>486383</td>\n",
       "      <td>527826</td>\n",
       "    </tr>\n",
       "    <tr>\n",
       "      <th>produce</th>\n",
       "      <td>938526</td>\n",
       "      <td>852593</td>\n",
       "      <td>931445</td>\n",
       "    </tr>\n",
       "  </tbody>\n",
       "</table>\n",
       "</div>"
      ],
      "text/plain": [
       "age_profile       18-39   40-59     60+\n",
       "department                             \n",
       "bulk               3499    3181    3444\n",
       "other              3642    3224    3460\n",
       "missing            6792    6100    6471\n",
       "pets               9631    8759    9562\n",
       "alcohol           15420   13394   14205\n",
       "international     26590   24190   25950\n",
       "babies            42574   39214   41676\n",
       "personal care     43628   40475   43262\n",
       "breakfast         69172   63235   68366\n",
       "meat seafood      68939   63599   69689\n",
       "household         71715   66299   72104\n",
       "dry goods pasta   85492   77397   83732\n",
       "deli             103423   94407  102875\n",
       "canned goods     104881   95280  102997\n",
       "bakery           115605  106314  114731\n",
       "pantry           183753  168441  182871\n",
       "frozen           219067  199964  219332\n",
       "beverages        262227  244152  265185\n",
       "snacks           288244  260295  282069\n",
       "dairy eggs       537780  486383  527826\n",
       "produce          938526  852593  931445"
      ]
     },
     "execution_count": 43,
     "metadata": {},
     "output_type": "execute_result"
    }
   ],
   "source": [
    "crosstab_dept_age_sort = crosstab_dept_age.sort_values('all',ascending = True)\n",
    "crosstab_dept_age_sort = crosstab_dept_age_sort.drop('all',axis=1)\n",
    "crosstab_dept_age_sort"
   ]
  },
  {
   "cell_type": "code",
   "execution_count": 44,
   "id": "88464206",
   "metadata": {},
   "outputs": [
    {
     "data": {
      "image/png": "[encoded data removed]",
      "text/plain": [
       "<Figure size 640x480 with 1 Axes>"
      ]
     },
     "metadata": {},
     "output_type": "display_data"
    }
   ],
   "source": [
    "# Create a stacked chart for number of age profile by department\n",
    "\n",
    "dept_age_stackedbar = crosstab_dept_age_sort.plot(kind = 'barh', stacked = True, color = sns.color_palette('tab10', 3))\n",
    "plt.legend(loc='lower right')\n",
    "plt.ylabel('Department', fontweight = 'bold')\n",
    "plt.xlabel('Number of Customers', fontweight = 'bold')\n",
    "plt.title('Age Profile by Department', fontweight = 'bold')\n",
    "plt.show()"
   ]
  },
  {
   "cell_type": "code",
   "execution_count": 45,
   "id": "82cd45b2",
   "metadata": {},
   "outputs": [],
   "source": [
    "crosstab_dept_income = pd.crosstab(df_insta_dept_hcust['department'],df_insta_dept_hcust['income_profile'],dropna = False)"
   ]
  },
  {
   "cell_type": "code",
   "execution_count": 46,
   "id": "da13a152",
   "metadata": {},
   "outputs": [],
   "source": [
    "crosstab_dept_income['all'] = crosstab_dept_income['Lower income']+crosstab_dept_income['Middle income']+crosstab_dept_income['Upper income']"
   ]
  },
  {
   "cell_type": "code",
   "execution_count": 47,
   "id": "18807fa3",
   "metadata": {},
   "outputs": [
    {
     "data": {
      "text/html": [
       "<div>\n",
       "<style scoped>\n",
       "    .dataframe tbody tr th:only-of-type {\n",
       "        vertical-align: middle;\n",
       "    }\n",
       "\n",
       "    .dataframe tbody tr th {\n",
       "        vertical-align: top;\n",
       "    }\n",
       "\n",
       "    .dataframe thead th {\n",
       "        text-align: right;\n",
       "    }\n",
       "</style>\n",
       "<table border=\"1\" class=\"dataframe\">\n",
       "  <thead>\n",
       "    <tr style=\"text-align: right;\">\n",
       "      <th>income_profile</th>\n",
       "      <th>Lower income</th>\n",
       "      <th>Middle income</th>\n",
       "      <th>Upper income</th>\n",
       "    </tr>\n",
       "    <tr>\n",
       "      <th>department</th>\n",
       "      <th></th>\n",
       "      <th></th>\n",
       "      <th></th>\n",
       "    </tr>\n",
       "  </thead>\n",
       "  <tbody>\n",
       "    <tr>\n",
       "      <th>bulk</th>\n",
       "      <td>107</td>\n",
       "      <td>4549</td>\n",
       "      <td>5468</td>\n",
       "    </tr>\n",
       "    <tr>\n",
       "      <th>other</th>\n",
       "      <td>82</td>\n",
       "      <td>4325</td>\n",
       "      <td>5919</td>\n",
       "    </tr>\n",
       "    <tr>\n",
       "      <th>missing</th>\n",
       "      <td>108</td>\n",
       "      <td>8122</td>\n",
       "      <td>11133</td>\n",
       "    </tr>\n",
       "    <tr>\n",
       "      <th>pets</th>\n",
       "      <td>138</td>\n",
       "      <td>11023</td>\n",
       "      <td>16791</td>\n",
       "    </tr>\n",
       "    <tr>\n",
       "      <th>alcohol</th>\n",
       "      <td>358</td>\n",
       "      <td>17426</td>\n",
       "      <td>25235</td>\n",
       "    </tr>\n",
       "    <tr>\n",
       "      <th>international</th>\n",
       "      <td>427</td>\n",
       "      <td>30754</td>\n",
       "      <td>45549</td>\n",
       "    </tr>\n",
       "    <tr>\n",
       "      <th>babies</th>\n",
       "      <td>434</td>\n",
       "      <td>48630</td>\n",
       "      <td>74400</td>\n",
       "    </tr>\n",
       "    <tr>\n",
       "      <th>personal care</th>\n",
       "      <td>762</td>\n",
       "      <td>53914</td>\n",
       "      <td>72689</td>\n",
       "    </tr>\n",
       "    <tr>\n",
       "      <th>breakfast</th>\n",
       "      <td>1456</td>\n",
       "      <td>88177</td>\n",
       "      <td>111140</td>\n",
       "    </tr>\n",
       "    <tr>\n",
       "      <th>meat seafood</th>\n",
       "      <td>485</td>\n",
       "      <td>75591</td>\n",
       "      <td>126151</td>\n",
       "    </tr>\n",
       "    <tr>\n",
       "      <th>household</th>\n",
       "      <td>1444</td>\n",
       "      <td>88879</td>\n",
       "      <td>119795</td>\n",
       "    </tr>\n",
       "    <tr>\n",
       "      <th>dry goods pasta</th>\n",
       "      <td>1191</td>\n",
       "      <td>98046</td>\n",
       "      <td>147384</td>\n",
       "    </tr>\n",
       "    <tr>\n",
       "      <th>deli</th>\n",
       "      <td>1921</td>\n",
       "      <td>124780</td>\n",
       "      <td>174004</td>\n",
       "    </tr>\n",
       "    <tr>\n",
       "      <th>canned goods</th>\n",
       "      <td>1256</td>\n",
       "      <td>119948</td>\n",
       "      <td>181954</td>\n",
       "    </tr>\n",
       "    <tr>\n",
       "      <th>bakery</th>\n",
       "      <td>1766</td>\n",
       "      <td>135997</td>\n",
       "      <td>198887</td>\n",
       "    </tr>\n",
       "    <tr>\n",
       "      <th>pantry</th>\n",
       "      <td>2549</td>\n",
       "      <td>216992</td>\n",
       "      <td>315524</td>\n",
       "    </tr>\n",
       "    <tr>\n",
       "      <th>frozen</th>\n",
       "      <td>3857</td>\n",
       "      <td>262521</td>\n",
       "      <td>371985</td>\n",
       "    </tr>\n",
       "    <tr>\n",
       "      <th>beverages</th>\n",
       "      <td>6980</td>\n",
       "      <td>342063</td>\n",
       "      <td>422521</td>\n",
       "    </tr>\n",
       "    <tr>\n",
       "      <th>snacks</th>\n",
       "      <td>10517</td>\n",
       "      <td>404288</td>\n",
       "      <td>415803</td>\n",
       "    </tr>\n",
       "    <tr>\n",
       "      <th>dairy eggs</th>\n",
       "      <td>8545</td>\n",
       "      <td>635823</td>\n",
       "      <td>907621</td>\n",
       "    </tr>\n",
       "    <tr>\n",
       "      <th>produce</th>\n",
       "      <td>13832</td>\n",
       "      <td>1111715</td>\n",
       "      <td>1597017</td>\n",
       "    </tr>\n",
       "  </tbody>\n",
       "</table>\n",
       "</div>"
      ],
      "text/plain": [
       "income_profile   Lower income  Middle income  Upper income\n",
       "department                                                \n",
       "bulk                      107           4549          5468\n",
       "other                      82           4325          5919\n",
       "missing                   108           8122         11133\n",
       "pets                      138          11023         16791\n",
       "alcohol                   358          17426         25235\n",
       "international             427          30754         45549\n",
       "babies                    434          48630         74400\n",
       "personal care             762          53914         72689\n",
       "breakfast                1456          88177        111140\n",
       "meat seafood              485          75591        126151\n",
       "household                1444          88879        119795\n",
       "dry goods pasta          1191          98046        147384\n",
       "deli                     1921         124780        174004\n",
       "canned goods             1256         119948        181954\n",
       "bakery                   1766         135997        198887\n",
       "pantry                   2549         216992        315524\n",
       "frozen                   3857         262521        371985\n",
       "beverages                6980         342063        422521\n",
       "snacks                  10517         404288        415803\n",
       "dairy eggs               8545         635823        907621\n",
       "produce                 13832        1111715       1597017"
      ]
     },
     "execution_count": 47,
     "metadata": {},
     "output_type": "execute_result"
    }
   ],
   "source": [
    "crosstab_dept_income_sort = crosstab_dept_income.sort_values('all',ascending = True)\n",
    "crosstab_dept_income_sort = crosstab_dept_income_sort .drop('all',axis=1)\n",
    "crosstab_dept_income_sort "
   ]
  },
  {
   "cell_type": "code",
   "execution_count": 48,
   "id": "25cfcfd8",
   "metadata": {},
   "outputs": [
    {
     "data": {
      "image/png": "[encoded data removed]",
      "text/plain": [
       "<Figure size 640x480 with 1 Axes>"
      ]
     },
     "metadata": {},
     "output_type": "display_data"
    }
   ],
   "source": [
    "# Create a stacked chart for income profile by department\n",
    "\n",
    "dept_income_stackedbar = crosstab_dept_income_sort.plot(kind = 'barh', stacked = True, color = sns.color_palette('tab10', 3))\n",
    "plt.legend(loc='lower right')\n",
    "plt.ylabel('Department', fontweight = 'bold')\n",
    "plt.xlabel('Number of Customers', fontweight = 'bold')\n",
    "plt.title('Income Profile by Department', fontweight = 'bold')\n",
    "plt.show()"
   ]
  },
  {
   "cell_type": "code",
   "execution_count": 49,
   "id": "ef7f4d60",
   "metadata": {},
   "outputs": [
    {
     "data": {
      "text/html": [
       "<div>\n",
       "<style scoped>\n",
       "    .dataframe tbody tr th:only-of-type {\n",
       "        vertical-align: middle;\n",
       "    }\n",
       "\n",
       "    .dataframe tbody tr th {\n",
       "        vertical-align: top;\n",
       "    }\n",
       "\n",
       "    .dataframe thead th {\n",
       "        text-align: right;\n",
       "    }\n",
       "</style>\n",
       "<table border=\"1\" class=\"dataframe\">\n",
       "  <thead>\n",
       "    <tr style=\"text-align: right;\">\n",
       "      <th>income_profile</th>\n",
       "      <th>Lower income</th>\n",
       "      <th>Middle income</th>\n",
       "      <th>Upper income</th>\n",
       "    </tr>\n",
       "    <tr>\n",
       "      <th>department</th>\n",
       "      <th></th>\n",
       "      <th></th>\n",
       "      <th></th>\n",
       "    </tr>\n",
       "  </thead>\n",
       "  <tbody>\n",
       "    <tr>\n",
       "      <th>alcohol</th>\n",
       "      <td>358</td>\n",
       "      <td>17426</td>\n",
       "      <td>25235</td>\n",
       "    </tr>\n",
       "    <tr>\n",
       "      <th>babies</th>\n",
       "      <td>434</td>\n",
       "      <td>48630</td>\n",
       "      <td>74400</td>\n",
       "    </tr>\n",
       "    <tr>\n",
       "      <th>bakery</th>\n",
       "      <td>1766</td>\n",
       "      <td>135997</td>\n",
       "      <td>198887</td>\n",
       "    </tr>\n",
       "    <tr>\n",
       "      <th>beverages</th>\n",
       "      <td>6980</td>\n",
       "      <td>342063</td>\n",
       "      <td>422521</td>\n",
       "    </tr>\n",
       "    <tr>\n",
       "      <th>breakfast</th>\n",
       "      <td>1456</td>\n",
       "      <td>88177</td>\n",
       "      <td>111140</td>\n",
       "    </tr>\n",
       "    <tr>\n",
       "      <th>bulk</th>\n",
       "      <td>107</td>\n",
       "      <td>4549</td>\n",
       "      <td>5468</td>\n",
       "    </tr>\n",
       "    <tr>\n",
       "      <th>canned goods</th>\n",
       "      <td>1256</td>\n",
       "      <td>119948</td>\n",
       "      <td>181954</td>\n",
       "    </tr>\n",
       "    <tr>\n",
       "      <th>dairy eggs</th>\n",
       "      <td>8545</td>\n",
       "      <td>635823</td>\n",
       "      <td>907621</td>\n",
       "    </tr>\n",
       "    <tr>\n",
       "      <th>deli</th>\n",
       "      <td>1921</td>\n",
       "      <td>124780</td>\n",
       "      <td>174004</td>\n",
       "    </tr>\n",
       "    <tr>\n",
       "      <th>dry goods pasta</th>\n",
       "      <td>1191</td>\n",
       "      <td>98046</td>\n",
       "      <td>147384</td>\n",
       "    </tr>\n",
       "    <tr>\n",
       "      <th>frozen</th>\n",
       "      <td>3857</td>\n",
       "      <td>262521</td>\n",
       "      <td>371985</td>\n",
       "    </tr>\n",
       "    <tr>\n",
       "      <th>household</th>\n",
       "      <td>1444</td>\n",
       "      <td>88879</td>\n",
       "      <td>119795</td>\n",
       "    </tr>\n",
       "    <tr>\n",
       "      <th>international</th>\n",
       "      <td>427</td>\n",
       "      <td>30754</td>\n",
       "      <td>45549</td>\n",
       "    </tr>\n",
       "    <tr>\n",
       "      <th>meat seafood</th>\n",
       "      <td>485</td>\n",
       "      <td>75591</td>\n",
       "      <td>126151</td>\n",
       "    </tr>\n",
       "    <tr>\n",
       "      <th>missing</th>\n",
       "      <td>108</td>\n",
       "      <td>8122</td>\n",
       "      <td>11133</td>\n",
       "    </tr>\n",
       "    <tr>\n",
       "      <th>other</th>\n",
       "      <td>82</td>\n",
       "      <td>4325</td>\n",
       "      <td>5919</td>\n",
       "    </tr>\n",
       "    <tr>\n",
       "      <th>pantry</th>\n",
       "      <td>2549</td>\n",
       "      <td>216992</td>\n",
       "      <td>315524</td>\n",
       "    </tr>\n",
       "    <tr>\n",
       "      <th>personal care</th>\n",
       "      <td>762</td>\n",
       "      <td>53914</td>\n",
       "      <td>72689</td>\n",
       "    </tr>\n",
       "    <tr>\n",
       "      <th>pets</th>\n",
       "      <td>138</td>\n",
       "      <td>11023</td>\n",
       "      <td>16791</td>\n",
       "    </tr>\n",
       "    <tr>\n",
       "      <th>produce</th>\n",
       "      <td>13832</td>\n",
       "      <td>1111715</td>\n",
       "      <td>1597017</td>\n",
       "    </tr>\n",
       "    <tr>\n",
       "      <th>snacks</th>\n",
       "      <td>10517</td>\n",
       "      <td>404288</td>\n",
       "      <td>415803</td>\n",
       "    </tr>\n",
       "  </tbody>\n",
       "</table>\n",
       "</div>"
      ],
      "text/plain": [
       "income_profile   Lower income  Middle income  Upper income\n",
       "department                                                \n",
       "alcohol                   358          17426         25235\n",
       "babies                    434          48630         74400\n",
       "bakery                   1766         135997        198887\n",
       "beverages                6980         342063        422521\n",
       "breakfast                1456          88177        111140\n",
       "bulk                      107           4549          5468\n",
       "canned goods             1256         119948        181954\n",
       "dairy eggs               8545         635823        907621\n",
       "deli                     1921         124780        174004\n",
       "dry goods pasta          1191          98046        147384\n",
       "frozen                   3857         262521        371985\n",
       "household                1444          88879        119795\n",
       "international             427          30754         45549\n",
       "meat seafood              485          75591        126151\n",
       "missing                   108           8122         11133\n",
       "other                      82           4325          5919\n",
       "pantry                   2549         216992        315524\n",
       "personal care             762          53914         72689\n",
       "pets                      138          11023         16791\n",
       "produce                 13832        1111715       1597017\n",
       "snacks                  10517         404288        415803"
      ]
     },
     "execution_count": 49,
     "metadata": {},
     "output_type": "execute_result"
    }
   ],
   "source": [
    "pd.crosstab(df_insta_dept_hcust['department'],df_insta_dept_hcust['income_profile'],dropna = False)"
   ]
  },
  {
   "cell_type": "markdown",
   "id": "5aeccd63",
   "metadata": {},
   "source": [
    "Department spending habits are consistent between age and income with produce, dairy/eggs, snacks, beverages, and frozen items being the top 5 items purchased in decending order."
   ]
  },
  {
   "cell_type": "markdown",
   "id": "8688527a",
   "metadata": {},
   "source": [
    "DEPENDENTS"
   ]
  },
  {
   "cell_type": "code",
   "execution_count": 50,
   "id": "f9600fb8",
   "metadata": {},
   "outputs": [
    {
     "data": {
      "text/html": [
       "<div>\n",
       "<style scoped>\n",
       "    .dataframe tbody tr th:only-of-type {\n",
       "        vertical-align: middle;\n",
       "    }\n",
       "\n",
       "    .dataframe tbody tr th {\n",
       "        vertical-align: top;\n",
       "    }\n",
       "\n",
       "    .dataframe thead th {\n",
       "        text-align: right;\n",
       "    }\n",
       "</style>\n",
       "<table border=\"1\" class=\"dataframe\">\n",
       "  <thead>\n",
       "    <tr style=\"text-align: right;\">\n",
       "      <th></th>\n",
       "      <th>num_dependants</th>\n",
       "    </tr>\n",
       "  </thead>\n",
       "  <tbody>\n",
       "    <tr>\n",
       "      <th>min</th>\n",
       "      <td>0.000000</td>\n",
       "    </tr>\n",
       "    <tr>\n",
       "      <th>max</th>\n",
       "      <td>3.000000</td>\n",
       "    </tr>\n",
       "    <tr>\n",
       "      <th>mean</th>\n",
       "      <td>1.501722</td>\n",
       "    </tr>\n",
       "  </tbody>\n",
       "</table>\n",
       "</div>"
      ],
      "text/plain": [
       "      num_dependants\n",
       "min         0.000000\n",
       "max         3.000000\n",
       "mean        1.501722"
      ]
     },
     "execution_count": 50,
     "metadata": {},
     "output_type": "execute_result"
    }
   ],
   "source": [
    "df_insta_dept_hcust.agg({'num_dependants' : ['min','max','mean']})"
   ]
  },
  {
   "cell_type": "code",
   "execution_count": 51,
   "id": "5f76f42f",
   "metadata": {},
   "outputs": [
    {
     "data": {
      "image/png": "[encoded data removed]",
      "text/plain": [
       "<Figure size 640x480 with 1 Axes>"
      ]
     },
     "metadata": {},
     "output_type": "display_data"
    }
   ],
   "source": [
    "# Create dependants pie chart\n",
    "\n",
    "numdepend_pie = df_insta_dept_hcust['num_dependants'].value_counts('user_id').plot.pie(title ='Customer Dependants Percentage', label = '', autopct=('%1.f%%'))"
   ]
  },
  {
   "cell_type": "code",
   "execution_count": 52,
   "id": "7bc564e9",
   "metadata": {},
   "outputs": [
    {
     "data": {
      "text/html": [
       "<div>\n",
       "<style scoped>\n",
       "    .dataframe tbody tr th:only-of-type {\n",
       "        vertical-align: middle;\n",
       "    }\n",
       "\n",
       "    .dataframe tbody tr th {\n",
       "        vertical-align: top;\n",
       "    }\n",
       "\n",
       "    .dataframe thead tr th {\n",
       "        text-align: left;\n",
       "    }\n",
       "\n",
       "    .dataframe thead tr:last-of-type th {\n",
       "        text-align: right;\n",
       "    }\n",
       "</style>\n",
       "<table border=\"1\" class=\"dataframe\">\n",
       "  <thead>\n",
       "    <tr>\n",
       "      <th></th>\n",
       "      <th>orders_day_of_week</th>\n",
       "      <th>order_hour_of_day</th>\n",
       "      <th colspan=\"3\" halign=\"left\">#ofdays_since_last_order</th>\n",
       "      <th colspan=\"2\" halign=\"left\">prices</th>\n",
       "    </tr>\n",
       "    <tr>\n",
       "      <th></th>\n",
       "      <th>mean</th>\n",
       "      <th>mean</th>\n",
       "      <th>mean</th>\n",
       "      <th>min</th>\n",
       "      <th>max</th>\n",
       "      <th>mean</th>\n",
       "      <th>sum</th>\n",
       "    </tr>\n",
       "    <tr>\n",
       "      <th>num_dependants</th>\n",
       "      <th></th>\n",
       "      <th></th>\n",
       "      <th></th>\n",
       "      <th></th>\n",
       "      <th></th>\n",
       "      <th></th>\n",
       "      <th></th>\n",
       "    </tr>\n",
       "  </thead>\n",
       "  <tbody>\n",
       "    <tr>\n",
       "      <th>0</th>\n",
       "      <td>2.736072</td>\n",
       "      <td>13.419985</td>\n",
       "      <td>10.205717</td>\n",
       "      <td>0.0</td>\n",
       "      <td>30.0</td>\n",
       "      <td>11.845228</td>\n",
       "      <td>27498578.2</td>\n",
       "    </tr>\n",
       "    <tr>\n",
       "      <th>1</th>\n",
       "      <td>2.746547</td>\n",
       "      <td>13.391327</td>\n",
       "      <td>10.228418</td>\n",
       "      <td>0.0</td>\n",
       "      <td>30.0</td>\n",
       "      <td>11.703824</td>\n",
       "      <td>27107683.4</td>\n",
       "    </tr>\n",
       "    <tr>\n",
       "      <th>2</th>\n",
       "      <td>2.747853</td>\n",
       "      <td>13.411473</td>\n",
       "      <td>10.245896</td>\n",
       "      <td>0.0</td>\n",
       "      <td>30.0</td>\n",
       "      <td>12.137555</td>\n",
       "      <td>28163775.5</td>\n",
       "    </tr>\n",
       "    <tr>\n",
       "      <th>3</th>\n",
       "      <td>2.732577</td>\n",
       "      <td>13.418185</td>\n",
       "      <td>10.246441</td>\n",
       "      <td>0.0</td>\n",
       "      <td>30.0</td>\n",
       "      <td>11.476820</td>\n",
       "      <td>26749437.7</td>\n",
       "    </tr>\n",
       "  </tbody>\n",
       "</table>\n",
       "</div>"
      ],
      "text/plain": [
       "               orders_day_of_week order_hour_of_day #ofdays_since_last_order  \\\n",
       "                             mean              mean                     mean   \n",
       "num_dependants                                                                 \n",
       "0                        2.736072         13.419985                10.205717   \n",
       "1                        2.746547         13.391327                10.228418   \n",
       "2                        2.747853         13.411473                10.245896   \n",
       "3                        2.732577         13.418185                10.246441   \n",
       "\n",
       "                              prices              \n",
       "                min   max       mean         sum  \n",
       "num_dependants                                    \n",
       "0               0.0  30.0  11.845228  27498578.2  \n",
       "1               0.0  30.0  11.703824  27107683.4  \n",
       "2               0.0  30.0  12.137555  28163775.5  \n",
       "3               0.0  30.0  11.476820  26749437.7  "
      ]
     },
     "execution_count": 52,
     "metadata": {},
     "output_type": "execute_result"
    }
   ],
   "source": [
    "df_insta_dept_hcust.groupby(['num_dependants']).agg({'orders_day_of_week' : ['mean'],'order_hour_of_day' : ['mean'], '#ofdays_since_last_order' : ['mean','min','max'], 'prices' : ['mean','sum']})"
   ]
  },
  {
   "cell_type": "markdown",
   "id": "de962b87",
   "metadata": {},
   "source": [
    "Average of orders by day_of_week, hour_of_day, and days_since_last_order indicate there is minimal difference of customer purchasing habits by number of dependants. Customers with two dependants spend the most. "
   ]
  },
  {
   "cell_type": "code",
   "execution_count": 53,
   "id": "0eec0ce0",
   "metadata": {},
   "outputs": [
    {
     "data": {
      "text/html": [
       "<div>\n",
       "<style scoped>\n",
       "    .dataframe tbody tr th:only-of-type {\n",
       "        vertical-align: middle;\n",
       "    }\n",
       "\n",
       "    .dataframe tbody tr th {\n",
       "        vertical-align: top;\n",
       "    }\n",
       "\n",
       "    .dataframe thead th {\n",
       "        text-align: right;\n",
       "    }\n",
       "</style>\n",
       "<table border=\"1\" class=\"dataframe\">\n",
       "  <thead>\n",
       "    <tr style=\"text-align: right;\">\n",
       "      <th>num_dependants</th>\n",
       "      <th>0</th>\n",
       "      <th>1</th>\n",
       "      <th>2</th>\n",
       "      <th>3</th>\n",
       "    </tr>\n",
       "    <tr>\n",
       "      <th>age_profile</th>\n",
       "      <th></th>\n",
       "      <th></th>\n",
       "      <th></th>\n",
       "      <th></th>\n",
       "    </tr>\n",
       "  </thead>\n",
       "  <tbody>\n",
       "    <tr>\n",
       "      <th>18-39</th>\n",
       "      <td>798398</td>\n",
       "      <td>797402</td>\n",
       "      <td>801804</td>\n",
       "      <td>802996</td>\n",
       "    </tr>\n",
       "    <tr>\n",
       "      <th>40-59</th>\n",
       "      <td>728772</td>\n",
       "      <td>743840</td>\n",
       "      <td>713681</td>\n",
       "      <td>730603</td>\n",
       "    </tr>\n",
       "    <tr>\n",
       "      <th>60+</th>\n",
       "      <td>794320</td>\n",
       "      <td>774897</td>\n",
       "      <td>804898</td>\n",
       "      <td>797137</td>\n",
       "    </tr>\n",
       "  </tbody>\n",
       "</table>\n",
       "</div>"
      ],
      "text/plain": [
       "num_dependants       0       1       2       3\n",
       "age_profile                                   \n",
       "18-39           798398  797402  801804  802996\n",
       "40-59           728772  743840  713681  730603\n",
       "60+             794320  774897  804898  797137"
      ]
     },
     "execution_count": 53,
     "metadata": {},
     "output_type": "execute_result"
    }
   ],
   "source": [
    "pd.crosstab(df_instacart_hcust['age_profile'],df_instacart_hcust['num_dependants'],dropna = False)"
   ]
  },
  {
   "cell_type": "code",
   "execution_count": 54,
   "id": "4e1ccba6",
   "metadata": {},
   "outputs": [
    {
     "data": {
      "text/html": [
       "<div>\n",
       "<style scoped>\n",
       "    .dataframe tbody tr th:only-of-type {\n",
       "        vertical-align: middle;\n",
       "    }\n",
       "\n",
       "    .dataframe tbody tr th {\n",
       "        vertical-align: top;\n",
       "    }\n",
       "\n",
       "    .dataframe thead th {\n",
       "        text-align: right;\n",
       "    }\n",
       "</style>\n",
       "<table border=\"1\" class=\"dataframe\">\n",
       "  <thead>\n",
       "    <tr style=\"text-align: right;\">\n",
       "      <th>num_dependants</th>\n",
       "      <th>0</th>\n",
       "      <th>1</th>\n",
       "      <th>2</th>\n",
       "      <th>3</th>\n",
       "    </tr>\n",
       "    <tr>\n",
       "      <th>income_profile</th>\n",
       "      <th></th>\n",
       "      <th></th>\n",
       "      <th></th>\n",
       "      <th></th>\n",
       "    </tr>\n",
       "  </thead>\n",
       "  <tbody>\n",
       "    <tr>\n",
       "      <th>Lower income</th>\n",
       "      <td>15820</td>\n",
       "      <td>12914</td>\n",
       "      <td>15434</td>\n",
       "      <td>14047</td>\n",
       "    </tr>\n",
       "    <tr>\n",
       "      <th>Middle income</th>\n",
       "      <td>966009</td>\n",
       "      <td>970671</td>\n",
       "      <td>970388</td>\n",
       "      <td>976495</td>\n",
       "    </tr>\n",
       "    <tr>\n",
       "      <th>Upper income</th>\n",
       "      <td>1339661</td>\n",
       "      <td>1332554</td>\n",
       "      <td>1334561</td>\n",
       "      <td>1340194</td>\n",
       "    </tr>\n",
       "  </tbody>\n",
       "</table>\n",
       "</div>"
      ],
      "text/plain": [
       "num_dependants        0        1        2        3\n",
       "income_profile                                    \n",
       "Lower income      15820    12914    15434    14047\n",
       "Middle income    966009   970671   970388   976495\n",
       "Upper income    1339661  1332554  1334561  1340194"
      ]
     },
     "execution_count": 54,
     "metadata": {},
     "output_type": "execute_result"
    }
   ],
   "source": [
    "pd.crosstab(df_instacart_hcust['income_profile'],df_instacart_hcust['num_dependants'],dropna = False)"
   ]
  },
  {
   "cell_type": "markdown",
   "id": "f4870f69",
   "metadata": {},
   "source": [
    "The difference in number of dependants by age and income profiles is minimal. "
   ]
  },
  {
   "cell_type": "code",
   "execution_count": 55,
   "id": "d2b35424",
   "metadata": {},
   "outputs": [],
   "source": [
    "crosstab_dept_dependants = pd.crosstab(df_insta_dept_hcust['department'],df_insta_dept_hcust['num_dependants'],dropna = False)"
   ]
  },
  {
   "cell_type": "code",
   "execution_count": 56,
   "id": "f79ec018",
   "metadata": {},
   "outputs": [],
   "source": [
    "crosstab_dept_dependants['all'] = crosstab_dept_dependants[0]+crosstab_dept_dependants[1]+crosstab_dept_dependants[2]+crosstab_dept_dependants[3]"
   ]
  },
  {
   "cell_type": "code",
   "execution_count": 57,
   "id": "22c99352",
   "metadata": {},
   "outputs": [
    {
     "data": {
      "text/html": [
       "<div>\n",
       "<style scoped>\n",
       "    .dataframe tbody tr th:only-of-type {\n",
       "        vertical-align: middle;\n",
       "    }\n",
       "\n",
       "    .dataframe tbody tr th {\n",
       "        vertical-align: top;\n",
       "    }\n",
       "\n",
       "    .dataframe thead th {\n",
       "        text-align: right;\n",
       "    }\n",
       "</style>\n",
       "<table border=\"1\" class=\"dataframe\">\n",
       "  <thead>\n",
       "    <tr style=\"text-align: right;\">\n",
       "      <th>num_dependants</th>\n",
       "      <th>0</th>\n",
       "      <th>1</th>\n",
       "      <th>2</th>\n",
       "      <th>3</th>\n",
       "    </tr>\n",
       "    <tr>\n",
       "      <th>department</th>\n",
       "      <th></th>\n",
       "      <th></th>\n",
       "      <th></th>\n",
       "      <th></th>\n",
       "    </tr>\n",
       "  </thead>\n",
       "  <tbody>\n",
       "    <tr>\n",
       "      <th>bulk</th>\n",
       "      <td>2391</td>\n",
       "      <td>2595</td>\n",
       "      <td>2584</td>\n",
       "      <td>2554</td>\n",
       "    </tr>\n",
       "    <tr>\n",
       "      <th>other</th>\n",
       "      <td>2613</td>\n",
       "      <td>2624</td>\n",
       "      <td>2572</td>\n",
       "      <td>2517</td>\n",
       "    </tr>\n",
       "    <tr>\n",
       "      <th>missing</th>\n",
       "      <td>4742</td>\n",
       "      <td>4715</td>\n",
       "      <td>4911</td>\n",
       "      <td>4995</td>\n",
       "    </tr>\n",
       "    <tr>\n",
       "      <th>pets</th>\n",
       "      <td>7173</td>\n",
       "      <td>7131</td>\n",
       "      <td>6811</td>\n",
       "      <td>6837</td>\n",
       "    </tr>\n",
       "    <tr>\n",
       "      <th>alcohol</th>\n",
       "      <td>10859</td>\n",
       "      <td>10575</td>\n",
       "      <td>10468</td>\n",
       "      <td>11117</td>\n",
       "    </tr>\n",
       "    <tr>\n",
       "      <th>international</th>\n",
       "      <td>19349</td>\n",
       "      <td>19491</td>\n",
       "      <td>18923</td>\n",
       "      <td>18967</td>\n",
       "    </tr>\n",
       "    <tr>\n",
       "      <th>babies</th>\n",
       "      <td>30833</td>\n",
       "      <td>30125</td>\n",
       "      <td>31549</td>\n",
       "      <td>30957</td>\n",
       "    </tr>\n",
       "    <tr>\n",
       "      <th>personal care</th>\n",
       "      <td>31748</td>\n",
       "      <td>31710</td>\n",
       "      <td>31740</td>\n",
       "      <td>32167</td>\n",
       "    </tr>\n",
       "    <tr>\n",
       "      <th>breakfast</th>\n",
       "      <td>49912</td>\n",
       "      <td>50666</td>\n",
       "      <td>50244</td>\n",
       "      <td>49951</td>\n",
       "    </tr>\n",
       "    <tr>\n",
       "      <th>meat seafood</th>\n",
       "      <td>49921</td>\n",
       "      <td>50513</td>\n",
       "      <td>50244</td>\n",
       "      <td>51549</td>\n",
       "    </tr>\n",
       "    <tr>\n",
       "      <th>household</th>\n",
       "      <td>51268</td>\n",
       "      <td>52970</td>\n",
       "      <td>52844</td>\n",
       "      <td>53036</td>\n",
       "    </tr>\n",
       "    <tr>\n",
       "      <th>dry goods pasta</th>\n",
       "      <td>61155</td>\n",
       "      <td>61630</td>\n",
       "      <td>61390</td>\n",
       "      <td>62446</td>\n",
       "    </tr>\n",
       "    <tr>\n",
       "      <th>deli</th>\n",
       "      <td>75790</td>\n",
       "      <td>74228</td>\n",
       "      <td>74746</td>\n",
       "      <td>75941</td>\n",
       "    </tr>\n",
       "    <tr>\n",
       "      <th>canned goods</th>\n",
       "      <td>75240</td>\n",
       "      <td>75962</td>\n",
       "      <td>75966</td>\n",
       "      <td>75990</td>\n",
       "    </tr>\n",
       "    <tr>\n",
       "      <th>bakery</th>\n",
       "      <td>84477</td>\n",
       "      <td>84018</td>\n",
       "      <td>83961</td>\n",
       "      <td>84194</td>\n",
       "    </tr>\n",
       "    <tr>\n",
       "      <th>pantry</th>\n",
       "      <td>133160</td>\n",
       "      <td>134384</td>\n",
       "      <td>134001</td>\n",
       "      <td>133520</td>\n",
       "    </tr>\n",
       "    <tr>\n",
       "      <th>frozen</th>\n",
       "      <td>158982</td>\n",
       "      <td>158299</td>\n",
       "      <td>160896</td>\n",
       "      <td>160186</td>\n",
       "    </tr>\n",
       "    <tr>\n",
       "      <th>beverages</th>\n",
       "      <td>193483</td>\n",
       "      <td>191802</td>\n",
       "      <td>194188</td>\n",
       "      <td>192091</td>\n",
       "    </tr>\n",
       "    <tr>\n",
       "      <th>snacks</th>\n",
       "      <td>208107</td>\n",
       "      <td>206753</td>\n",
       "      <td>208643</td>\n",
       "      <td>207105</td>\n",
       "    </tr>\n",
       "    <tr>\n",
       "      <th>dairy eggs</th>\n",
       "      <td>388470</td>\n",
       "      <td>389003</td>\n",
       "      <td>386178</td>\n",
       "      <td>388338</td>\n",
       "    </tr>\n",
       "    <tr>\n",
       "      <th>produce</th>\n",
       "      <td>681817</td>\n",
       "      <td>676945</td>\n",
       "      <td>677524</td>\n",
       "      <td>686278</td>\n",
       "    </tr>\n",
       "  </tbody>\n",
       "</table>\n",
       "</div>"
      ],
      "text/plain": [
       "num_dependants        0       1       2       3\n",
       "department                                     \n",
       "bulk               2391    2595    2584    2554\n",
       "other              2613    2624    2572    2517\n",
       "missing            4742    4715    4911    4995\n",
       "pets               7173    7131    6811    6837\n",
       "alcohol           10859   10575   10468   11117\n",
       "international     19349   19491   18923   18967\n",
       "babies            30833   30125   31549   30957\n",
       "personal care     31748   31710   31740   32167\n",
       "breakfast         49912   50666   50244   49951\n",
       "meat seafood      49921   50513   50244   51549\n",
       "household         51268   52970   52844   53036\n",
       "dry goods pasta   61155   61630   61390   62446\n",
       "deli              75790   74228   74746   75941\n",
       "canned goods      75240   75962   75966   75990\n",
       "bakery            84477   84018   83961   84194\n",
       "pantry           133160  134384  134001  133520\n",
       "frozen           158982  158299  160896  160186\n",
       "beverages        193483  191802  194188  192091\n",
       "snacks           208107  206753  208643  207105\n",
       "dairy eggs       388470  389003  386178  388338\n",
       "produce          681817  676945  677524  686278"
      ]
     },
     "execution_count": 57,
     "metadata": {},
     "output_type": "execute_result"
    }
   ],
   "source": [
    "crosstab_dept_dependants_sort = crosstab_dept_dependants.sort_values('all',ascending = True)\n",
    "crosstab_dept_dependants_sort = crosstab_dept_dependants_sort .drop('all',axis=1)\n",
    "crosstab_dept_dependants_sort "
   ]
  },
  {
   "cell_type": "code",
   "execution_count": 58,
   "id": "68f15ee3",
   "metadata": {},
   "outputs": [
    {
     "data": {
      "image/png": "[encoded data removed]",
      "text/plain": [
       "<Figure size 640x480 with 1 Axes>"
      ]
     },
     "metadata": {},
     "output_type": "display_data"
    }
   ],
   "source": [
    "# Create a stacked chart for number of dependants by department\n",
    "\n",
    "dept_depend_stackedbar = crosstab_dept_dependants_sort.plot(kind = 'barh', stacked = True, color = sns.color_palette('tab10', 4))\n",
    "plt.legend(loc='lower right')\n",
    "plt.ylabel('Department', fontweight = 'bold')\n",
    "plt.xlabel('Number of Dependants', fontweight = 'bold')\n",
    "plt.title('Number of Dependants by Department', fontweight = 'bold')\n",
    "plt.show()"
   ]
  },
  {
   "cell_type": "markdown",
   "id": "6c04fe10",
   "metadata": {},
   "source": [
    "Number of dependants does not change established customer spending habits"
   ]
  },
  {
   "cell_type": "markdown",
   "id": "2a2cb724",
   "metadata": {},
   "source": [
    "# Geographical Profile Comparisons"
   ]
  },
  {
   "cell_type": "code",
   "execution_count": 59,
   "id": "74455244",
   "metadata": {},
   "outputs": [],
   "source": [
    "# Crosstab for comparsison ages by regions\n",
    "\n",
    "crosstab_region_age = pd.crosstab(df_insta_dept_hcust['Region'], df_insta_dept_hcust['age_profile'], dropna = False)"
   ]
  },
  {
   "cell_type": "code",
   "execution_count": 60,
   "id": "8e4bd11f",
   "metadata": {},
   "outputs": [],
   "source": [
    "crosstab_region_age['all'] = crosstab_region_age['18-39']+crosstab_region_age['40-59']+crosstab_region_age['60+']"
   ]
  },
  {
   "cell_type": "code",
   "execution_count": 61,
   "id": "2d651607",
   "metadata": {},
   "outputs": [
    {
     "data": {
      "text/html": [
       "<div>\n",
       "<style scoped>\n",
       "    .dataframe tbody tr th:only-of-type {\n",
       "        vertical-align: middle;\n",
       "    }\n",
       "\n",
       "    .dataframe tbody tr th {\n",
       "        vertical-align: top;\n",
       "    }\n",
       "\n",
       "    .dataframe thead th {\n",
       "        text-align: right;\n",
       "    }\n",
       "</style>\n",
       "<table border=\"1\" class=\"dataframe\">\n",
       "  <thead>\n",
       "    <tr style=\"text-align: right;\">\n",
       "      <th>age_profile</th>\n",
       "      <th>18-39</th>\n",
       "      <th>40-59</th>\n",
       "      <th>60+</th>\n",
       "    </tr>\n",
       "    <tr>\n",
       "      <th>Region</th>\n",
       "      <th></th>\n",
       "      <th></th>\n",
       "      <th></th>\n",
       "    </tr>\n",
       "  </thead>\n",
       "  <tbody>\n",
       "    <tr>\n",
       "      <th>South</th>\n",
       "      <td>1083455</td>\n",
       "      <td>954539</td>\n",
       "      <td>1055628</td>\n",
       "    </tr>\n",
       "    <tr>\n",
       "      <th>West</th>\n",
       "      <td>810604</td>\n",
       "      <td>753564</td>\n",
       "      <td>813462</td>\n",
       "    </tr>\n",
       "    <tr>\n",
       "      <th>Midwest</th>\n",
       "      <td>745221</td>\n",
       "      <td>696656</td>\n",
       "      <td>736826</td>\n",
       "    </tr>\n",
       "    <tr>\n",
       "      <th>Northeast</th>\n",
       "      <td>561320</td>\n",
       "      <td>512137</td>\n",
       "      <td>565336</td>\n",
       "    </tr>\n",
       "  </tbody>\n",
       "</table>\n",
       "</div>"
      ],
      "text/plain": [
       "age_profile    18-39   40-59      60+\n",
       "Region                               \n",
       "South        1083455  954539  1055628\n",
       "West          810604  753564   813462\n",
       "Midwest       745221  696656   736826\n",
       "Northeast     561320  512137   565336"
      ]
     },
     "execution_count": 61,
     "metadata": {},
     "output_type": "execute_result"
    }
   ],
   "source": [
    "crosstab_region_sort = crosstab_region_age.sort_values('all',ascending = False)\n",
    "crosstab_region_sort = crosstab_region_sort .drop('all',axis=1)\n",
    "crosstab_region_sort"
   ]
  },
  {
   "cell_type": "code",
   "execution_count": 62,
   "id": "cc86bfb4",
   "metadata": {},
   "outputs": [
    {
     "data": {
      "image/png": "[encoded data removed]",
      "text/plain": [
       "<Figure size 640x480 with 1 Axes>"
      ]
     },
     "metadata": {},
     "output_type": "display_data"
    }
   ],
   "source": [
    "# Create a bar chart for age profiles by region\n",
    "\n",
    "region_age = crosstab_region_sort.plot(kind = 'bar', color = sns.color_palette('tab10', 3))\n",
    "plt.legend(loc='upper right')\n",
    "plt.xlabel('Region', fontweight = 'bold')\n",
    "plt.ylabel('Number of Customers', fontweight = 'bold')\n",
    "plt.title('Age Profile by Region', fontweight = 'bold')\n",
    "plt.show()"
   ]
  },
  {
   "cell_type": "markdown",
   "id": "711adeee",
   "metadata": {},
   "source": [
    "Age profile ratios are fairly consistent by Region. While the South region is the largest customer base, it also has a higher percentage of 18-39 year olds than the other regions"
   ]
  },
  {
   "cell_type": "code",
   "execution_count": 63,
   "id": "5814c7b8",
   "metadata": {},
   "outputs": [],
   "source": [
    "# Crosstab for comparsison income by regions\n",
    "\n",
    "crosstab_region_income = pd.crosstab(df_insta_dept_hcust['Region'], df_insta_dept_hcust['income_profile'], dropna = False)"
   ]
  },
  {
   "cell_type": "code",
   "execution_count": 64,
   "id": "fba91334",
   "metadata": {},
   "outputs": [],
   "source": [
    "crosstab_region_income['all'] = crosstab_region_income['Lower income']+crosstab_region_income['Middle income']+crosstab_region_income['Upper income']"
   ]
  },
  {
   "cell_type": "code",
   "execution_count": 65,
   "id": "3d3ff7c5",
   "metadata": {},
   "outputs": [
    {
     "data": {
      "text/html": [
       "<div>\n",
       "<style scoped>\n",
       "    .dataframe tbody tr th:only-of-type {\n",
       "        vertical-align: middle;\n",
       "    }\n",
       "\n",
       "    .dataframe tbody tr th {\n",
       "        vertical-align: top;\n",
       "    }\n",
       "\n",
       "    .dataframe thead th {\n",
       "        text-align: right;\n",
       "    }\n",
       "</style>\n",
       "<table border=\"1\" class=\"dataframe\">\n",
       "  <thead>\n",
       "    <tr style=\"text-align: right;\">\n",
       "      <th>income_profile</th>\n",
       "      <th>Lower income</th>\n",
       "      <th>Middle income</th>\n",
       "      <th>Upper income</th>\n",
       "    </tr>\n",
       "    <tr>\n",
       "      <th>Region</th>\n",
       "      <th></th>\n",
       "      <th></th>\n",
       "      <th></th>\n",
       "    </tr>\n",
       "  </thead>\n",
       "  <tbody>\n",
       "    <tr>\n",
       "      <th>South</th>\n",
       "      <td>19657</td>\n",
       "      <td>1308386</td>\n",
       "      <td>1765579</td>\n",
       "    </tr>\n",
       "    <tr>\n",
       "      <th>West</th>\n",
       "      <td>12587</td>\n",
       "      <td>997708</td>\n",
       "      <td>1367335</td>\n",
       "    </tr>\n",
       "    <tr>\n",
       "      <th>Midwest</th>\n",
       "      <td>16103</td>\n",
       "      <td>898917</td>\n",
       "      <td>1263683</td>\n",
       "    </tr>\n",
       "    <tr>\n",
       "      <th>Northeast</th>\n",
       "      <td>9868</td>\n",
       "      <td>678552</td>\n",
       "      <td>950373</td>\n",
       "    </tr>\n",
       "  </tbody>\n",
       "</table>\n",
       "</div>"
      ],
      "text/plain": [
       "income_profile  Lower income  Middle income  Upper income\n",
       "Region                                                   \n",
       "South                  19657        1308386       1765579\n",
       "West                   12587         997708       1367335\n",
       "Midwest                16103         898917       1263683\n",
       "Northeast               9868         678552        950373"
      ]
     },
     "execution_count": 65,
     "metadata": {},
     "output_type": "execute_result"
    }
   ],
   "source": [
    "crosstab_regioninc_sort = crosstab_region_income.sort_values('all',ascending = False)\n",
    "crosstab_regioninc_sort = crosstab_regioninc_sort .drop('all',axis=1)\n",
    "crosstab_regioninc_sort"
   ]
  },
  {
   "cell_type": "code",
   "execution_count": 66,
   "id": "afae67b2",
   "metadata": {},
   "outputs": [
    {
     "data": {
      "image/png": "[encoded data removed]",
      "text/plain": [
       "<Figure size 640x480 with 1 Axes>"
      ]
     },
     "metadata": {},
     "output_type": "display_data"
    }
   ],
   "source": [
    "# Create a bar chart for income profiles by region\n",
    "\n",
    "region_income = crosstab_regioninc_sort.plot(kind = 'bar', color = sns.color_palette('tab10', 3))\n",
    "plt.legend(loc='upper right')\n",
    "plt.xlabel('Region', fontweight = 'bold')\n",
    "plt.ylabel('Number of Customers', fontweight = 'bold')\n",
    "plt.title('Income Profile by Region', fontweight = 'bold')\n",
    "plt.show()"
   ]
  },
  {
   "cell_type": "code",
   "execution_count": 67,
   "id": "9ebd7728",
   "metadata": {},
   "outputs": [
    {
     "data": {
      "text/html": [
       "<div>\n",
       "<style scoped>\n",
       "    .dataframe tbody tr th:only-of-type {\n",
       "        vertical-align: middle;\n",
       "    }\n",
       "\n",
       "    .dataframe tbody tr th {\n",
       "        vertical-align: top;\n",
       "    }\n",
       "\n",
       "    .dataframe thead th {\n",
       "        text-align: right;\n",
       "    }\n",
       "</style>\n",
       "<table border=\"1\" class=\"dataframe\">\n",
       "  <thead>\n",
       "    <tr style=\"text-align: right;\">\n",
       "      <th>income_profile</th>\n",
       "      <th>Lower income</th>\n",
       "      <th>Middle income</th>\n",
       "      <th>Upper income</th>\n",
       "    </tr>\n",
       "    <tr>\n",
       "      <th>Region</th>\n",
       "      <th></th>\n",
       "      <th></th>\n",
       "      <th></th>\n",
       "    </tr>\n",
       "  </thead>\n",
       "  <tbody>\n",
       "    <tr>\n",
       "      <th>Midwest</th>\n",
       "      <td>16103</td>\n",
       "      <td>898917</td>\n",
       "      <td>1263683</td>\n",
       "    </tr>\n",
       "    <tr>\n",
       "      <th>Northeast</th>\n",
       "      <td>9868</td>\n",
       "      <td>678552</td>\n",
       "      <td>950373</td>\n",
       "    </tr>\n",
       "    <tr>\n",
       "      <th>South</th>\n",
       "      <td>19657</td>\n",
       "      <td>1308386</td>\n",
       "      <td>1765579</td>\n",
       "    </tr>\n",
       "    <tr>\n",
       "      <th>West</th>\n",
       "      <td>12587</td>\n",
       "      <td>997708</td>\n",
       "      <td>1367335</td>\n",
       "    </tr>\n",
       "  </tbody>\n",
       "</table>\n",
       "</div>"
      ],
      "text/plain": [
       "income_profile  Lower income  Middle income  Upper income\n",
       "Region                                                   \n",
       "Midwest                16103         898917       1263683\n",
       "Northeast               9868         678552        950373\n",
       "South                  19657        1308386       1765579\n",
       "West                   12587         997708       1367335"
      ]
     },
     "execution_count": 67,
     "metadata": {},
     "output_type": "execute_result"
    }
   ],
   "source": [
    "pd.crosstab(df_insta_dept_hcust['Region'], df_insta_dept_hcust['income_profile'], dropna = False)"
   ]
  },
  {
   "cell_type": "markdown",
   "id": "f3516aca",
   "metadata": {},
   "source": [
    "Income profile ratios are also fairly consistent by Region. The South region has about one percent more customers in the middle income profile. This result trends to the larger 18-39 year population as that age bracket makes less than those who are 40+ years."
   ]
  },
  {
   "cell_type": "code",
   "execution_count": 68,
   "id": "ac74d189",
   "metadata": {},
   "outputs": [],
   "source": [
    "df_top5_dept = df_insta_dept_hcust.loc[df_insta_dept_hcust['department'].isin(['produce','dairy eggs','snacks','beverages', 'frozen'])]"
   ]
  },
  {
   "cell_type": "code",
   "execution_count": 69,
   "id": "f6ff99b6",
   "metadata": {},
   "outputs": [
    {
     "data": {
      "text/html": [
       "<div>\n",
       "<style scoped>\n",
       "    .dataframe tbody tr th:only-of-type {\n",
       "        vertical-align: middle;\n",
       "    }\n",
       "\n",
       "    .dataframe tbody tr th {\n",
       "        vertical-align: top;\n",
       "    }\n",
       "\n",
       "    .dataframe thead th {\n",
       "        text-align: right;\n",
       "    }\n",
       "</style>\n",
       "<table border=\"1\" class=\"dataframe\">\n",
       "  <thead>\n",
       "    <tr style=\"text-align: right;\">\n",
       "      <th>Region</th>\n",
       "      <th>Midwest</th>\n",
       "      <th>Northeast</th>\n",
       "      <th>South</th>\n",
       "      <th>West</th>\n",
       "    </tr>\n",
       "    <tr>\n",
       "      <th>department</th>\n",
       "      <th></th>\n",
       "      <th></th>\n",
       "      <th></th>\n",
       "      <th></th>\n",
       "    </tr>\n",
       "  </thead>\n",
       "  <tbody>\n",
       "    <tr>\n",
       "      <th>beverages</th>\n",
       "      <td>180146</td>\n",
       "      <td>139256</td>\n",
       "      <td>257082</td>\n",
       "      <td>195080</td>\n",
       "    </tr>\n",
       "    <tr>\n",
       "      <th>dairy eggs</th>\n",
       "      <td>363121</td>\n",
       "      <td>273700</td>\n",
       "      <td>516865</td>\n",
       "      <td>398303</td>\n",
       "    </tr>\n",
       "    <tr>\n",
       "      <th>frozen</th>\n",
       "      <td>150160</td>\n",
       "      <td>110742</td>\n",
       "      <td>213847</td>\n",
       "      <td>163614</td>\n",
       "    </tr>\n",
       "    <tr>\n",
       "      <th>produce</th>\n",
       "      <td>639979</td>\n",
       "      <td>477649</td>\n",
       "      <td>907902</td>\n",
       "      <td>697034</td>\n",
       "    </tr>\n",
       "    <tr>\n",
       "      <th>snacks</th>\n",
       "      <td>193491</td>\n",
       "      <td>148057</td>\n",
       "      <td>275635</td>\n",
       "      <td>213425</td>\n",
       "    </tr>\n",
       "  </tbody>\n",
       "</table>\n",
       "</div>"
      ],
      "text/plain": [
       "Region      Midwest  Northeast   South    West\n",
       "department                                    \n",
       "beverages    180146     139256  257082  195080\n",
       "dairy eggs   363121     273700  516865  398303\n",
       "frozen       150160     110742  213847  163614\n",
       "produce      639979     477649  907902  697034\n",
       "snacks       193491     148057  275635  213425"
      ]
     },
     "execution_count": 69,
     "metadata": {},
     "output_type": "execute_result"
    }
   ],
   "source": [
    "# Crosstab for comparsison for top 5 departments by region\n",
    "\n",
    "crosstab_region_departments = pd.crosstab(df_top5_dept['department'], df_insta_dept_hcust['Region'], dropna = False)\n",
    "crosstab_region_departments"
   ]
  },
  {
   "cell_type": "code",
   "execution_count": 70,
   "id": "7f80e142",
   "metadata": {},
   "outputs": [
    {
     "data": {
      "image/png": "[encoded data removed]",
      "text/plain": [
       "<Figure size 640x480 with 1 Axes>"
      ]
     },
     "metadata": {},
     "output_type": "display_data"
    }
   ],
   "source": [
    "# Create a horizontal bar chart for top 5 departments\n",
    "\n",
    "region_departments = crosstab_region_departments.plot(kind = 'barh', color = sns.color_palette('tab10', 4))\n",
    "plt.legend(loc='lower right')\n",
    "plt.ylabel('Departments', fontweight = 'bold')\n",
    "plt.xlabel('Number of Orders', fontweight = 'bold')\n",
    "plt.title('Top 5 Departments by Region', fontweight = 'bold')\n",
    "plt.show()"
   ]
  },
  {
   "cell_type": "code",
   "execution_count": 71,
   "id": "98607fc5",
   "metadata": {},
   "outputs": [
    {
     "data": {
      "text/html": [
       "<div>\n",
       "<style scoped>\n",
       "    .dataframe tbody tr th:only-of-type {\n",
       "        vertical-align: middle;\n",
       "    }\n",
       "\n",
       "    .dataframe tbody tr th {\n",
       "        vertical-align: top;\n",
       "    }\n",
       "\n",
       "    .dataframe thead th {\n",
       "        text-align: right;\n",
       "    }\n",
       "</style>\n",
       "<table border=\"1\" class=\"dataframe\">\n",
       "  <thead>\n",
       "    <tr style=\"text-align: right;\">\n",
       "      <th>Region</th>\n",
       "      <th>Midwest</th>\n",
       "      <th>Northeast</th>\n",
       "      <th>South</th>\n",
       "      <th>West</th>\n",
       "    </tr>\n",
       "    <tr>\n",
       "      <th>department</th>\n",
       "      <th></th>\n",
       "      <th></th>\n",
       "      <th></th>\n",
       "      <th></th>\n",
       "    </tr>\n",
       "  </thead>\n",
       "  <tbody>\n",
       "    <tr>\n",
       "      <th>beverages</th>\n",
       "      <td>180146</td>\n",
       "      <td>139256</td>\n",
       "      <td>257082</td>\n",
       "      <td>195080</td>\n",
       "    </tr>\n",
       "    <tr>\n",
       "      <th>dairy eggs</th>\n",
       "      <td>363121</td>\n",
       "      <td>273700</td>\n",
       "      <td>516865</td>\n",
       "      <td>398303</td>\n",
       "    </tr>\n",
       "    <tr>\n",
       "      <th>frozen</th>\n",
       "      <td>150160</td>\n",
       "      <td>110742</td>\n",
       "      <td>213847</td>\n",
       "      <td>163614</td>\n",
       "    </tr>\n",
       "    <tr>\n",
       "      <th>produce</th>\n",
       "      <td>639979</td>\n",
       "      <td>477649</td>\n",
       "      <td>907902</td>\n",
       "      <td>697034</td>\n",
       "    </tr>\n",
       "    <tr>\n",
       "      <th>snacks</th>\n",
       "      <td>193491</td>\n",
       "      <td>148057</td>\n",
       "      <td>275635</td>\n",
       "      <td>213425</td>\n",
       "    </tr>\n",
       "  </tbody>\n",
       "</table>\n",
       "</div>"
      ],
      "text/plain": [
       "Region      Midwest  Northeast   South    West\n",
       "department                                    \n",
       "beverages    180146     139256  257082  195080\n",
       "dairy eggs   363121     273700  516865  398303\n",
       "frozen       150160     110742  213847  163614\n",
       "produce      639979     477649  907902  697034\n",
       "snacks       193491     148057  275635  213425"
      ]
     },
     "execution_count": 71,
     "metadata": {},
     "output_type": "execute_result"
    }
   ],
   "source": [
    "pd.crosstab(df_top5_dept['department'], df_insta_dept_hcust['Region'], dropna = False)"
   ]
  },
  {
   "cell_type": "markdown",
   "id": "a25fdf6b",
   "metadata": {},
   "source": [
    "There is no sizeable difference in top 5 spending habits by department between geographical regions"
   ]
  },
  {
   "cell_type": "code",
   "execution_count": 72,
   "id": "c13f64fb",
   "metadata": {},
   "outputs": [
    {
     "data": {
      "text/plain": [
       "product_name\n",
       "Banana                      472565\n",
       "Bag of Organic Bananas      379450\n",
       "Organic Strawberries        264683\n",
       "Organic Baby Spinach        241921\n",
       "Organic Hass Avocado        213584\n",
       "Organic Avocado             176815\n",
       "Large Lemon                 152657\n",
       "Strawberries                142951\n",
       "Limes                       140627\n",
       "Organic Whole Milk          137905\n",
       "Organic Raspberries         137057\n",
       "Organic Yellow Onion        113426\n",
       "Organic Garlic              109778\n",
       "Organic Zucchini            104823\n",
       "Organic Blueberries         100060\n",
       "Cucumber Kirby               97315\n",
       "Organic Fuji Apple           89632\n",
       "Organic Lemon                87746\n",
       "Apple Honeycrisp Organic     85020\n",
       "Organic Grape Tomatoes       84255\n",
       "dtype: int64"
      ]
     },
     "execution_count": 72,
     "metadata": {},
     "output_type": "execute_result"
    }
   ],
   "source": [
    "df_instacart_clean2.value_counts('product_name').head(20)"
   ]
  },
  {
   "cell_type": "code",
   "execution_count": 73,
   "id": "d0f6fb46",
   "metadata": {},
   "outputs": [],
   "source": [
    "top_produce = df_insta_dept_hcust.product_name == 'Banana'"
   ]
  },
  {
   "cell_type": "code",
   "execution_count": 74,
   "id": "51ac6350",
   "metadata": {},
   "outputs": [],
   "source": [
    "product_price = df_insta_dept_hcust.groupby(['product_name']).agg({'prices' : ['max']})"
   ]
  },
  {
   "cell_type": "code",
   "execution_count": 75,
   "id": "cacd97e0",
   "metadata": {},
   "outputs": [],
   "source": [
    "# Crosstab for comparsison loyalty by frequency\n",
    "\n",
    "crosstab_loyal_freq = pd.crosstab(df_insta_dept_hcust['frequency_flag'], df_insta_dept_hcust['loyalty_flag'], dropna = False)"
   ]
  },
  {
   "cell_type": "code",
   "execution_count": 76,
   "id": "e39e8a7d",
   "metadata": {},
   "outputs": [],
   "source": [
    "crosstab_loyal_freq['all'] = crosstab_loyal_freq['Loyal customer']+crosstab_loyal_freq['New customer']+crosstab_loyal_freq['Regular customer']"
   ]
  },
  {
   "cell_type": "code",
   "execution_count": 77,
   "id": "9bad73e4",
   "metadata": {},
   "outputs": [
    {
     "data": {
      "text/html": [
       "<div>\n",
       "<style scoped>\n",
       "    .dataframe tbody tr th:only-of-type {\n",
       "        vertical-align: middle;\n",
       "    }\n",
       "\n",
       "    .dataframe tbody tr th {\n",
       "        vertical-align: top;\n",
       "    }\n",
       "\n",
       "    .dataframe thead th {\n",
       "        text-align: right;\n",
       "    }\n",
       "</style>\n",
       "<table border=\"1\" class=\"dataframe\">\n",
       "  <thead>\n",
       "    <tr style=\"text-align: right;\">\n",
       "      <th>loyalty_flag</th>\n",
       "      <th>Loyal customer</th>\n",
       "      <th>New customer</th>\n",
       "      <th>Regular customer</th>\n",
       "    </tr>\n",
       "    <tr>\n",
       "      <th>frequency_flag</th>\n",
       "      <th></th>\n",
       "      <th></th>\n",
       "      <th></th>\n",
       "    </tr>\n",
       "  </thead>\n",
       "  <tbody>\n",
       "    <tr>\n",
       "      <th>Frequent customer</th>\n",
       "      <td>3081956</td>\n",
       "      <td>497443</td>\n",
       "      <td>3080744</td>\n",
       "    </tr>\n",
       "    <tr>\n",
       "      <th>Regular customer</th>\n",
       "      <td>707</td>\n",
       "      <td>484213</td>\n",
       "      <td>1486507</td>\n",
       "    </tr>\n",
       "    <tr>\n",
       "      <th>Non-Frequent customer</th>\n",
       "      <td>0</td>\n",
       "      <td>458232</td>\n",
       "      <td>198946</td>\n",
       "    </tr>\n",
       "  </tbody>\n",
       "</table>\n",
       "</div>"
      ],
      "text/plain": [
       "loyalty_flag           Loyal customer  New customer  Regular customer\n",
       "frequency_flag                                                       \n",
       "Frequent customer             3081956        497443           3080744\n",
       "Regular customer                  707        484213           1486507\n",
       "Non-Frequent customer               0        458232            198946"
      ]
     },
     "execution_count": 77,
     "metadata": {},
     "output_type": "execute_result"
    }
   ],
   "source": [
    "crosstab_loyal_freq_sort = crosstab_loyal_freq.sort_values('all',ascending = False)\n",
    "crosstab_loyal_freq_sort = crosstab_loyal_freq_sort .drop('all',axis=1)\n",
    "crosstab_loyal_freq_sort"
   ]
  },
  {
   "cell_type": "code",
   "execution_count": 78,
   "id": "2b5b06a2",
   "metadata": {},
   "outputs": [
    {
     "data": {
      "image/png": "[encoded data removed]",
      "text/plain": [
       "<Figure size 640x480 with 1 Axes>"
      ]
     },
     "metadata": {},
     "output_type": "display_data"
    }
   ],
   "source": [
    "crosstab_loyal_freq_bar = crosstab_loyal_freq_sort.plot(kind = 'bar')\n",
    "plt.legend(loc='upper right')\n",
    "plt.xlabel('Frequency', fontweight = 'bold')\n",
    "plt.ylabel('Count of Customer', fontweight = 'bold')\n",
    "plt.title('Customer Loyalty and Frequency Comparison', fontweight = 'bold')\n",
    "plt.show()"
   ]
  },
  {
   "cell_type": "code",
   "execution_count": 79,
   "id": "bd8ecdf1",
   "metadata": {},
   "outputs": [],
   "source": [
    "df_insta_dept_hcust.loc[df_insta_dept_hcust['prices']>100, 'prices'] = np.nan"
   ]
  },
  {
   "cell_type": "code",
   "execution_count": 80,
   "id": "bbf6806f",
   "metadata": {},
   "outputs": [
    {
     "data": {
      "image/png": "[encoded data removed]",
      "text/plain": [
       "<Figure size 640x480 with 1 Axes>"
      ]
     },
     "metadata": {},
     "output_type": "display_data"
    }
   ],
   "source": [
    "# Total sales bar chart\n",
    "\n",
    "hour_of_day_total_sales = df_instacart_hcust.groupby(['order_hour_of_day']).agg({'prices':['sum']}).plot.bar(title ='Hour of Day Sale Totals',legend=None)"
   ]
  },
  {
   "cell_type": "code",
   "execution_count": 81,
   "id": "cd9295c1",
   "metadata": {},
   "outputs": [
    {
     "data": {
      "text/html": [
       "<div>\n",
       "<style scoped>\n",
       "    .dataframe tbody tr th:only-of-type {\n",
       "        vertical-align: middle;\n",
       "    }\n",
       "\n",
       "    .dataframe tbody tr th {\n",
       "        vertical-align: top;\n",
       "    }\n",
       "\n",
       "    .dataframe thead th {\n",
       "        text-align: right;\n",
       "    }\n",
       "</style>\n",
       "<table border=\"1\" class=\"dataframe\">\n",
       "  <thead>\n",
       "    <tr style=\"text-align: right;\">\n",
       "      <th>price_range_loc</th>\n",
       "      <th>High-range product</th>\n",
       "      <th>Low-range product</th>\n",
       "      <th>Mid-range product</th>\n",
       "    </tr>\n",
       "    <tr>\n",
       "      <th>income_profile</th>\n",
       "      <th></th>\n",
       "      <th></th>\n",
       "      <th></th>\n",
       "    </tr>\n",
       "  </thead>\n",
       "  <tbody>\n",
       "    <tr>\n",
       "      <th>Lower income</th>\n",
       "      <td>220</td>\n",
       "      <td>25105</td>\n",
       "      <td>32890</td>\n",
       "    </tr>\n",
       "    <tr>\n",
       "      <th>Middle income</th>\n",
       "      <td>43323</td>\n",
       "      <td>1287241</td>\n",
       "      <td>2552999</td>\n",
       "    </tr>\n",
       "    <tr>\n",
       "      <th>Upper income</th>\n",
       "      <td>75828</td>\n",
       "      <td>1590295</td>\n",
       "      <td>3680847</td>\n",
       "    </tr>\n",
       "  </tbody>\n",
       "</table>\n",
       "</div>"
      ],
      "text/plain": [
       "price_range_loc  High-range product  Low-range product  Mid-range product\n",
       "income_profile                                                           \n",
       "Lower income                    220              25105              32890\n",
       "Middle income                 43323            1287241            2552999\n",
       "Upper income                  75828            1590295            3680847"
      ]
     },
     "execution_count": 81,
     "metadata": {},
     "output_type": "execute_result"
    }
   ],
   "source": [
    "# Crosstab for comparsison income by price_range\n",
    "\n",
    "pd.crosstab(df_insta_dept_hcust['income_profile'], df_insta_dept_hcust['price_range_loc'], dropna = False)"
   ]
  },
  {
   "cell_type": "code",
   "execution_count": 82,
   "id": "7e279ad3",
   "metadata": {},
   "outputs": [
    {
     "data": {
      "text/plain": [
       "Mid-range product     6266736\n",
       "Low-range product     2902641\n",
       "High-range product     119371\n",
       "Name: price_range_loc, dtype: int64"
      ]
     },
     "execution_count": 82,
     "metadata": {},
     "output_type": "execute_result"
    }
   ],
   "source": [
    "df_insta_dept_hcust['price_range_loc'].value_counts(dropna=False)"
   ]
  },
  {
   "cell_type": "code",
   "execution_count": 83,
   "id": "71835721",
   "metadata": {},
   "outputs": [
    {
     "data": {
      "text/html": [
       "<div>\n",
       "<style scoped>\n",
       "    .dataframe tbody tr th:only-of-type {\n",
       "        vertical-align: middle;\n",
       "    }\n",
       "\n",
       "    .dataframe tbody tr th {\n",
       "        vertical-align: top;\n",
       "    }\n",
       "\n",
       "    .dataframe thead th {\n",
       "        text-align: right;\n",
       "    }\n",
       "</style>\n",
       "<table border=\"1\" class=\"dataframe\">\n",
       "  <thead>\n",
       "    <tr style=\"text-align: right;\">\n",
       "      <th>Region</th>\n",
       "      <th>Midwest</th>\n",
       "      <th>Northeast</th>\n",
       "      <th>South</th>\n",
       "      <th>West</th>\n",
       "    </tr>\n",
       "    <tr>\n",
       "      <th>frequency_flag</th>\n",
       "      <th></th>\n",
       "      <th></th>\n",
       "      <th></th>\n",
       "      <th></th>\n",
       "    </tr>\n",
       "  </thead>\n",
       "  <tbody>\n",
       "    <tr>\n",
       "      <th>Frequent customer</th>\n",
       "      <td>1549085</td>\n",
       "      <td>1175349</td>\n",
       "      <td>2222490</td>\n",
       "      <td>1713219</td>\n",
       "    </tr>\n",
       "    <tr>\n",
       "      <th>Non-Frequent customer</th>\n",
       "      <td>157707</td>\n",
       "      <td>113751</td>\n",
       "      <td>219820</td>\n",
       "      <td>165900</td>\n",
       "    </tr>\n",
       "    <tr>\n",
       "      <th>Regular customer</th>\n",
       "      <td>471911</td>\n",
       "      <td>349693</td>\n",
       "      <td>651312</td>\n",
       "      <td>498511</td>\n",
       "    </tr>\n",
       "  </tbody>\n",
       "</table>\n",
       "</div>"
      ],
      "text/plain": [
       "Region                 Midwest  Northeast    South     West\n",
       "frequency_flag                                             \n",
       "Frequent customer      1549085    1175349  2222490  1713219\n",
       "Non-Frequent customer   157707     113751   219820   165900\n",
       "Regular customer        471911     349693   651312   498511"
      ]
     },
     "execution_count": 83,
     "metadata": {},
     "output_type": "execute_result"
    }
   ],
   "source": [
    "pd.crosstab(df_insta_dept_hcust['frequency_flag'], df_insta_dept_hcust['Region'], dropna = False)"
   ]
  },
  {
   "cell_type": "code",
   "execution_count": 84,
   "id": "80afdc3f",
   "metadata": {},
   "outputs": [],
   "source": [
    "df_insta_dept_hcust['Organic_vs_Non'] = np.where(df_insta_dept_hcust['product_name'].str.contains('Organic'), 'Organic', 'Not_organic')"
   ]
  },
  {
   "cell_type": "code",
   "execution_count": 85,
   "id": "8aafaf4c",
   "metadata": {},
   "outputs": [
    {
     "data": {
      "text/plain": [
       "0    Not_organic\n",
       "1    Not_organic\n",
       "2    Not_organic\n",
       "3    Not_organic\n",
       "4    Not_organic\n",
       "Name: Organic_vs_Non, dtype: object"
      ]
     },
     "execution_count": 85,
     "metadata": {},
     "output_type": "execute_result"
    }
   ],
   "source": [
    "df_insta_dept_hcust.Organic_vs_Non.head()"
   ]
  },
  {
   "cell_type": "code",
   "execution_count": 86,
   "id": "0d43ddad",
   "metadata": {},
   "outputs": [],
   "source": [
    "df_produce = df_insta_dept_hcust.loc[df_insta_dept_hcust['department'] == 'produce']"
   ]
  },
  {
   "cell_type": "code",
   "execution_count": 87,
   "id": "4f933e11",
   "metadata": {},
   "outputs": [
    {
     "data": {
      "text/html": [
       "<div>\n",
       "<style scoped>\n",
       "    .dataframe tbody tr th:only-of-type {\n",
       "        vertical-align: middle;\n",
       "    }\n",
       "\n",
       "    .dataframe tbody tr th {\n",
       "        vertical-align: top;\n",
       "    }\n",
       "\n",
       "    .dataframe thead tr th {\n",
       "        text-align: left;\n",
       "    }\n",
       "\n",
       "    .dataframe thead tr:last-of-type th {\n",
       "        text-align: right;\n",
       "    }\n",
       "</style>\n",
       "<table border=\"1\" class=\"dataframe\">\n",
       "  <thead>\n",
       "    <tr>\n",
       "      <th></th>\n",
       "      <th>orders_day_of_week</th>\n",
       "      <th>order_hour_of_day</th>\n",
       "      <th colspan=\"3\" halign=\"left\">#ofdays_since_last_order</th>\n",
       "      <th colspan=\"2\" halign=\"left\">prices</th>\n",
       "    </tr>\n",
       "    <tr>\n",
       "      <th></th>\n",
       "      <th>mean</th>\n",
       "      <th>mean</th>\n",
       "      <th>mean</th>\n",
       "      <th>min</th>\n",
       "      <th>max</th>\n",
       "      <th>mean</th>\n",
       "      <th>sum</th>\n",
       "    </tr>\n",
       "    <tr>\n",
       "      <th>Organic_vs_Non</th>\n",
       "      <th></th>\n",
       "      <th></th>\n",
       "      <th></th>\n",
       "      <th></th>\n",
       "      <th></th>\n",
       "      <th></th>\n",
       "      <th></th>\n",
       "    </tr>\n",
       "  </thead>\n",
       "  <tbody>\n",
       "    <tr>\n",
       "      <th>Not_organic</th>\n",
       "      <td>2.762027</td>\n",
       "      <td>13.400475</td>\n",
       "      <td>10.434477</td>\n",
       "      <td>0.0</td>\n",
       "      <td>30.0</td>\n",
       "      <td>7.807827</td>\n",
       "      <td>49394507.7</td>\n",
       "    </tr>\n",
       "    <tr>\n",
       "      <th>Organic</th>\n",
       "      <td>2.695281</td>\n",
       "      <td>13.431174</td>\n",
       "      <td>9.798156</td>\n",
       "      <td>0.0</td>\n",
       "      <td>30.0</td>\n",
       "      <td>7.753962</td>\n",
       "      <td>22959753.1</td>\n",
       "    </tr>\n",
       "  </tbody>\n",
       "</table>\n",
       "</div>"
      ],
      "text/plain": [
       "               orders_day_of_week order_hour_of_day #ofdays_since_last_order  \\\n",
       "                             mean              mean                     mean   \n",
       "Organic_vs_Non                                                                 \n",
       "Not_organic              2.762027         13.400475                10.434477   \n",
       "Organic                  2.695281         13.431174                 9.798156   \n",
       "\n",
       "                             prices              \n",
       "                min   max      mean         sum  \n",
       "Organic_vs_Non                                   \n",
       "Not_organic     0.0  30.0  7.807827  49394507.7  \n",
       "Organic         0.0  30.0  7.753962  22959753.1  "
      ]
     },
     "execution_count": 87,
     "metadata": {},
     "output_type": "execute_result"
    }
   ],
   "source": [
    "df_insta_dept_hcust.groupby(['Organic_vs_Non']).agg({'orders_day_of_week' : ['mean'],'order_hour_of_day' : ['mean'], '#ofdays_since_last_order' : ['mean','min','max'], 'prices' : ['mean','sum']})"
   ]
  },
  {
   "cell_type": "code",
   "execution_count": 88,
   "id": "e803da17",
   "metadata": {},
   "outputs": [
    {
     "data": {
      "text/html": [
       "<div>\n",
       "<style scoped>\n",
       "    .dataframe tbody tr th:only-of-type {\n",
       "        vertical-align: middle;\n",
       "    }\n",
       "\n",
       "    .dataframe tbody tr th {\n",
       "        vertical-align: top;\n",
       "    }\n",
       "\n",
       "    .dataframe thead th {\n",
       "        text-align: right;\n",
       "    }\n",
       "</style>\n",
       "<table border=\"1\" class=\"dataframe\">\n",
       "  <thead>\n",
       "    <tr style=\"text-align: right;\">\n",
       "      <th>department</th>\n",
       "      <th>produce</th>\n",
       "    </tr>\n",
       "    <tr>\n",
       "      <th>Organic_vs_Non</th>\n",
       "      <th></th>\n",
       "    </tr>\n",
       "  </thead>\n",
       "  <tbody>\n",
       "    <tr>\n",
       "      <th>Not_organic</th>\n",
       "      <td>1245479</td>\n",
       "    </tr>\n",
       "    <tr>\n",
       "      <th>Organic</th>\n",
       "      <td>1477085</td>\n",
       "    </tr>\n",
       "  </tbody>\n",
       "</table>\n",
       "</div>"
      ],
      "text/plain": [
       "department      produce\n",
       "Organic_vs_Non         \n",
       "Not_organic     1245479\n",
       "Organic         1477085"
      ]
     },
     "execution_count": 88,
     "metadata": {},
     "output_type": "execute_result"
    }
   ],
   "source": [
    "# Crosstab for comparsison income by regions\n",
    "\n",
    "crosstab_organic_order = pd.crosstab(df_insta_dept_hcust['Organic_vs_Non'], df_produce['department'], dropna = False)\n",
    "crosstab_organic_order"
   ]
  },
  {
   "cell_type": "code",
   "execution_count": 89,
   "id": "77639a8c",
   "metadata": {},
   "outputs": [
    {
     "data": {
      "text/html": [
       "<div>\n",
       "<style scoped>\n",
       "    .dataframe tbody tr th:only-of-type {\n",
       "        vertical-align: middle;\n",
       "    }\n",
       "\n",
       "    .dataframe tbody tr th {\n",
       "        vertical-align: top;\n",
       "    }\n",
       "\n",
       "    .dataframe thead th {\n",
       "        text-align: right;\n",
       "    }\n",
       "</style>\n",
       "<table border=\"1\" class=\"dataframe\">\n",
       "  <thead>\n",
       "    <tr style=\"text-align: right;\">\n",
       "      <th>Organic_vs_Non</th>\n",
       "      <th>Not_organic</th>\n",
       "      <th>Organic</th>\n",
       "    </tr>\n",
       "    <tr>\n",
       "      <th>income_profile</th>\n",
       "      <th></th>\n",
       "      <th></th>\n",
       "    </tr>\n",
       "  </thead>\n",
       "  <tbody>\n",
       "    <tr>\n",
       "      <th>Lower income</th>\n",
       "      <td>43124</td>\n",
       "      <td>15091</td>\n",
       "    </tr>\n",
       "    <tr>\n",
       "      <th>Middle income</th>\n",
       "      <td>2668283</td>\n",
       "      <td>1215280</td>\n",
       "    </tr>\n",
       "    <tr>\n",
       "      <th>Upper income</th>\n",
       "      <td>3616306</td>\n",
       "      <td>1730664</td>\n",
       "    </tr>\n",
       "  </tbody>\n",
       "</table>\n",
       "</div>"
      ],
      "text/plain": [
       "Organic_vs_Non  Not_organic  Organic\n",
       "income_profile                      \n",
       "Lower income          43124    15091\n",
       "Middle income       2668283  1215280\n",
       "Upper income        3616306  1730664"
      ]
     },
     "execution_count": 89,
     "metadata": {},
     "output_type": "execute_result"
    }
   ],
   "source": [
    "crosstab_income_org = pd.crosstab(df_insta_dept_hcust['income_profile'], df_insta_dept_hcust['Organic_vs_Non'], dropna = False)\n",
    "crosstab_income_org"
   ]
  },
  {
   "cell_type": "code",
   "execution_count": 90,
   "id": "26db09ae",
   "metadata": {},
   "outputs": [],
   "source": [
    "# Export of visualizations\n",
    "\n",
    "ageprofileperc_pie.figure.savefig(os.path.join(path, '04 Analysis','Visualizations', 'ageprofileperc_pie.png'))\n",
    "incomeprofileperc_pie.figure.savefig(os.path.join(path, '04 Analysis','Visualizations', 'incomeprofileperc_pie.png'))\n",
    "incomeprofilesales_bar.figure.savefig(os.path.join(path, '04 Analysis','Visualizations', 'incomeprofilesales_bar.png'))\n",
    "dept_age_stackedbar.figure.savefig(os.path.join(path, '04 Analysis','Visualizations', 'dept_age_stackedbar.png'))\n",
    "dept_income_stackedbar.figure.savefig(os.path.join(path, '04 Analysis','Visualizations', 'dept_income_stackedbar.png'))    \n",
    "numdepend_pie.figure.savefig(os.path.join(path, '04 Analysis','Visualizations', 'numdepend_pie.png'))    \n",
    "dept_depend_stackedbar.figure.savefig(os.path.join(path, '04 Analysis','Visualizations', 'dept_depend_stackedbar.png'))    \n",
    "region_age.figure.savefig(os.path.join(path, '04 Analysis','Visualizations', 'region_age.png'))    \n",
    "region_income.figure.savefig(os.path.join(path, '04 Analysis','Visualizations', 'region_income.png'))    \n",
    "region_departments.figure.savefig(os.path.join(path, '04 Analysis','Visualizations', 'region_departments.png'))   \n",
    "crosstab_loyal_freq_bar.figure.savefig(os.path.join(path, '04 Analysis','Visualizations', 'crosstab_loyal_freq_bar.png'))   \n",
    "hour_of_day_total_sales.figure.savefig(os.path.join(path, '04 Analysis','Visualizations', 'hour_of_day_total_sales.png'))"
   ]
  },
  {
   "cell_type": "code",
   "execution_count": 91,
   "id": "f8eb4767",
   "metadata": {},
   "outputs": [],
   "source": [
    "# Export data to pkl\n",
    "\n",
    "df_insta_dept_hcust.to_pickle(os.path.join(path, '02 Data','Prepared Data', 'insta_dept_hcust.pkl'))"
   ]
  }
 ],
 "metadata": {
  "kernelspec": {
   "display_name": "Python 3 (ipykernel)",
   "language": "python",
   "name": "python3"
  },
  "language_info": {
   "codemirror_mode": {
    "name": "ipython",
    "version": 3
   },
   "file_extension": ".py",
   "mimetype": "text/x-python",
   "name": "python",
   "nbconvert_exporter": "python",
   "pygments_lexer": "ipython3",
   "version": "3.10.9"
  }
 },
 "nbformat": 4,
 "nbformat_minor": 5
}
