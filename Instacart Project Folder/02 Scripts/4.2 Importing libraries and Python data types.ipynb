{
 "cells": [
  {
   "cell_type": "markdown",
   "id": "5d078e85",
   "metadata": {},
   "source": [
    "#01. Importing libraries"
   ]
  },
  {
   "cell_type": "code",
   "execution_count": 1,
   "id": "db2bdf0c",
   "metadata": {},
   "outputs": [],
   "source": [
    "# Import libraries\n",
    "import pandas as pd\n",
    "import numpy as np\n",
    "import os"
   ]
  },
  {
   "cell_type": "markdown",
   "id": "19e60eec",
   "metadata": {},
   "source": [
    "#02. Exercise 4.2 Python data types"
   ]
  },
  {
   "cell_type": "code",
   "execution_count": 5,
   "id": "452941f4",
   "metadata": {},
   "outputs": [],
   "source": [
    "a=200"
   ]
  },
  {
   "cell_type": "code",
   "execution_count": 6,
   "id": "69732021",
   "metadata": {},
   "outputs": [],
   "source": [
    "b=25"
   ]
  },
  {
   "cell_type": "code",
   "execution_count": 3,
   "id": "47c0c4f4",
   "metadata": {},
   "outputs": [],
   "source": [
    "c=50"
   ]
  },
  {
   "cell_type": "code",
   "execution_count": 7,
   "id": "775a37c6",
   "metadata": {},
   "outputs": [
    {
     "data": {
      "text/plain": [
       "100"
      ]
     },
     "execution_count": 7,
     "metadata": {},
     "output_type": "execute_result"
    }
   ],
   "source": [
    "c+b+b"
   ]
  },
  {
   "cell_type": "code",
   "execution_count": 8,
   "id": "858da108",
   "metadata": {},
   "outputs": [
    {
     "data": {
      "text/plain": [
       "100"
      ]
     },
     "execution_count": 8,
     "metadata": {},
     "output_type": "execute_result"
    }
   ],
   "source": [
    "a-c-c"
   ]
  },
  {
   "cell_type": "code",
   "execution_count": 9,
   "id": "8717ca21",
   "metadata": {},
   "outputs": [
    {
     "data": {
      "text/plain": [
       "100"
      ]
     },
     "execution_count": 9,
     "metadata": {},
     "output_type": "execute_result"
    }
   ],
   "source": [
    "c+c"
   ]
  },
  {
   "cell_type": "code",
   "execution_count": 2,
   "id": "0c15db69",
   "metadata": {},
   "outputs": [],
   "source": [
    "x=7.654"
   ]
  },
  {
   "cell_type": "code",
   "execution_count": 3,
   "id": "8bff7395",
   "metadata": {},
   "outputs": [],
   "source": [
    "y=4.567"
   ]
  },
  {
   "cell_type": "code",
   "execution_count": 12,
   "id": "b24d1615",
   "metadata": {},
   "outputs": [
    {
     "data": {
      "text/plain": [
       "1.6759360630610904"
      ]
     },
     "execution_count": 12,
     "metadata": {},
     "output_type": "execute_result"
    }
   ],
   "source": [
    "x/y"
   ]
  },
  {
   "cell_type": "code",
   "execution_count": 8,
   "id": "0ebd87be",
   "metadata": {},
   "outputs": [],
   "source": [
    "m='da'"
   ]
  },
  {
   "cell_type": "code",
   "execution_count": 9,
   "id": "f7e13918",
   "metadata": {},
   "outputs": [],
   "source": [
    "n='ta'"
   ]
  },
  {
   "cell_type": "code",
   "execution_count": 17,
   "id": "d33a5444",
   "metadata": {},
   "outputs": [
    {
     "data": {
      "text/plain": [
       "'data'"
      ]
     },
     "execution_count": 17,
     "metadata": {},
     "output_type": "execute_result"
    }
   ],
   "source": [
    "m+n"
   ]
  },
  {
   "cell_type": "code",
   "execution_count": 26,
   "id": "8cdf12d8",
   "metadata": {},
   "outputs": [],
   "source": [
    "s='see '"
   ]
  },
  {
   "cell_type": "code",
   "execution_count": 27,
   "id": "73172528",
   "metadata": {},
   "outputs": [],
   "source": [
    "t='spot '"
   ]
  },
  {
   "cell_type": "code",
   "execution_count": 28,
   "id": "5a17b540",
   "metadata": {},
   "outputs": [],
   "source": [
    "u='run '"
   ]
  },
  {
   "cell_type": "code",
   "execution_count": 29,
   "id": "ce6cdac9",
   "metadata": {},
   "outputs": [],
   "source": [
    "v='jump '"
   ]
  },
  {
   "cell_type": "code",
   "execution_count": 30,
   "id": "6ea422bd",
   "metadata": {},
   "outputs": [
    {
     "data": {
      "text/plain": [
       "'see spot run '"
      ]
     },
     "execution_count": 30,
     "metadata": {},
     "output_type": "execute_result"
    }
   ],
   "source": [
    "s+t+u"
   ]
  },
  {
   "cell_type": "code",
   "execution_count": 31,
   "id": "ffcacd37",
   "metadata": {},
   "outputs": [
    {
     "data": {
      "text/plain": [
       "'see spot jump '"
      ]
     },
     "execution_count": 31,
     "metadata": {},
     "output_type": "execute_result"
    }
   ],
   "source": [
    "s+t+v"
   ]
  },
  {
   "cell_type": "code",
   "execution_count": 33,
   "id": "1164ee15",
   "metadata": {},
   "outputs": [
    {
     "data": {
      "text/plain": [
       "'datadatadatadatadatadatadatadatadatadatadatadatadatadatadatadatadatadatadatadatadatadatadatadatadatadatadatadatadatadatadatadatadatadatadatadatadatadatadatadatadatadatadatadatadatadatadatadatadatadatadatadatadatadatadatadatadatadatadatadatadatadatadatadatadatadatadatadatadatadatadatadatadatadatadatadatadatadatadatadatadatadatadatadatadatadatadatadatadatadatadatadatadatadatadatadatadatadatadatadata'"
      ]
     },
     "execution_count": 33,
     "metadata": {},
     "output_type": "execute_result"
    }
   ],
   "source": [
    "(m+n)*100"
   ]
  },
  {
   "cell_type": "code",
   "execution_count": 4,
   "id": "34cf8107",
   "metadata": {},
   "outputs": [
    {
     "data": {
      "text/plain": [
       "1.0"
      ]
     },
     "execution_count": 4,
     "metadata": {},
     "output_type": "execute_result"
    }
   ],
   "source": [
    "x//y"
   ]
  },
  {
   "cell_type": "code",
   "execution_count": 5,
   "id": "dc386cfc",
   "metadata": {},
   "outputs": [
    {
     "data": {
      "text/plain": [
       "8"
      ]
     },
     "execution_count": 5,
     "metadata": {},
     "output_type": "execute_result"
    }
   ],
   "source": [
    "round(x)"
   ]
  },
  {
   "cell_type": "code",
   "execution_count": 6,
   "id": "e87acf67",
   "metadata": {},
   "outputs": [
    {
     "data": {
      "text/plain": [
       "7.654"
      ]
     },
     "execution_count": 6,
     "metadata": {},
     "output_type": "execute_result"
    }
   ],
   "source": [
    "round(x,3)"
   ]
  },
  {
   "cell_type": "code",
   "execution_count": 7,
   "id": "6537c980",
   "metadata": {},
   "outputs": [
    {
     "data": {
      "text/plain": [
       "7.7"
      ]
     },
     "execution_count": 7,
     "metadata": {},
     "output_type": "execute_result"
    }
   ],
   "source": [
    "round(x,1)"
   ]
  },
  {
   "cell_type": "code",
   "execution_count": 10,
   "id": "79c13a11",
   "metadata": {},
   "outputs": [
    {
     "data": {
      "text/plain": [
       "'atad'"
      ]
     },
     "execution_count": 10,
     "metadata": {},
     "output_type": "execute_result"
    }
   ],
   "source": [
    "(m+n)[::-1]"
   ]
  },
  {
   "cell_type": "code",
   "execution_count": null,
   "id": "254d8de3",
   "metadata": {},
   "outputs": [],
   "source": []
  }
 ],
 "metadata": {
  "kernelspec": {
   "display_name": "Python 3 (ipykernel)",
   "language": "python",
   "name": "python3"
  },
  "language_info": {
   "codemirror_mode": {
    "name": "ipython",
    "version": 3
   },
   "file_extension": ".py",
   "mimetype": "text/x-python",
   "name": "python",
   "nbconvert_exporter": "python",
   "pygments_lexer": "ipython3",
   "version": "3.10.9"
  }
 },
 "nbformat": 4,
 "nbformat_minor": 5
}
